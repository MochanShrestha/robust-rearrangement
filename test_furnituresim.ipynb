{
 "cells": [
  {
   "cell_type": "code",
   "execution_count": null,
   "metadata": {},
   "outputs": [
    {
     "ename": "",
     "evalue": "",
     "output_type": "error",
     "traceback": [
      "\u001b[1;31mThe kernel failed to start as the Python Environment '~/miniconda3/envs/rlgpu/bin/python' is no longer available. Consider selecting another kernel or refreshing the list of Python Environments."
     ]
    }
   ],
   "source": [
    "import furniture_bench\n",
    "import gym\n",
    "\n",
    "import torch"
   ]
  },
  {
   "cell_type": "code",
   "execution_count": 2,
   "metadata": {},
   "outputs": [
    {
     "name": "stdout",
     "output_type": "stream",
     "text": [
      "PyTorch version 2.0.1+cu117\n",
      "Device count 1\n",
      "/home/azureuser/isaacgym/python/isaacgym/_bindings/src/gymtorch\n"
     ]
    },
    {
     "name": "stderr",
     "output_type": "stream",
     "text": [
      "/home/azureuser/miniconda3/envs/rlgpu/lib/python3.8/site-packages/torch/cuda/__init__.py:546: UserWarning: Can't initialize NVML\n",
      "  warnings.warn(\"Can't initialize NVML\")\n",
      "Using /home/azureuser/.cache/torch_extensions/py38_cu117 as PyTorch extensions root...\n",
      "Emitting ninja build file /home/azureuser/.cache/torch_extensions/py38_cu117/gymtorch/build.ninja...\n",
      "Building extension module gymtorch...\n",
      "Allowing ninja to set a default number of workers... (overridable by setting the environment variable MAX_JOBS=N)\n"
     ]
    },
    {
     "name": "stdout",
     "output_type": "stream",
     "text": [
      "ninja: no work to do.\n"
     ]
    },
    {
     "name": "stderr",
     "output_type": "stream",
     "text": [
      "Loading extension module gymtorch...\n"
     ]
    },
    {
     "ename": "",
     "evalue": "",
     "output_type": "error",
     "traceback": [
      "\u001b[1;31mCannot execute code, session has been disposed. Please try restarting the Kernel."
     ]
    },
    {
     "ename": "",
     "evalue": "",
     "output_type": "error",
     "traceback": [
      "\u001b[1;31mThe Kernel crashed while executing code in the the current cell or a previous cell. Please review the code in the cell(s) to identify a possible cause of the failure. Click <a href='https://aka.ms/vscodeJupyterKernelCrash'>here</a> for more info. View Jupyter <a href='command:jupyter.viewOutput'>log</a> for further details."
     ]
    }
   ],
   "source": [
    "env = gym.make(\n",
    "  \"FurnitureSimState-v0\",\n",
    "  furniture=\"lamp\",         # Specifies the type of furniture [lamp | square_table | desk | drawer | cabinet | round_table | stool | chair | one_leg].\n",
    "  num_envs=1,               # Number of parallel environments.\n",
    "  resize_img=True,          # If true, images are resized to 224 x 224.\n",
    "  headless=True,            # If true, simulation runs without GUI.\n",
    "  compute_device_id=0,      # GPU device ID for simulation.\n",
    "  graphics_device_id=0,     # GPU device ID for rendering.\n",
    "  init_assembled=False,     # If true, the environment is initialized with assembled furniture.\n",
    "  np_step_out=False,        # If true, env.step() returns Numpy arrays.\n",
    "  channel_first=False,      # If true, images are returned in channel first format.\n",
    "  randomness=\"low\",         # Level of randomness in the environment [low | med | high].\n",
    "  high_random_idx=-1,       # Index of the high randomness level (range: [0-2]). Default -1 will randomly select the index within the range.\n",
    "  save_camera_input=False,  # If true, the initial camera inputs are saved.\n",
    "  record=True,              # If true, videos of the wrist and front cameras' RGB inputs are recorded.\n",
    "  max_env_steps=3000,       # Maximum number of steps per episode.\n",
    "  act_rot_repr='quat'       # Representation of rotation for action space. Options are 'quat' and 'axis'.\n",
    ")"
   ]
  },
  {
   "cell_type": "code",
   "execution_count": 3,
   "metadata": {},
   "outputs": [
    {
     "name": "stderr",
     "output_type": "stream",
     "text": [
      "INFO: Found collision-free init pose\n"
     ]
    },
    {
     "ename": "ValueError",
     "evalue": "need at least one array to concatenate",
     "output_type": "error",
     "traceback": [
      "\u001b[0;31m---------------------------------------------------------------------------\u001b[0m",
      "\u001b[0;31mValueError\u001b[0m                                Traceback (most recent call last)",
      "\u001b[1;32m/home/azureuser/furniture-diffusion/test_furnituresim.ipynb Cell 10\u001b[0m line \u001b[0;36m1\n\u001b[0;32m----> <a href='vscode-notebook-cell://amlext%2B2f737562736372697074696f6e732f61336431363962342d613766372d346566612d396130382d6466626564633433616336662f7265736f7572636547726f7570732f4c6172732f70726f7669646572732f4d6963726f736f66742e4d616368696e654c6561726e696e6753657276696365732f776f726b7370616365732f6c6172732d61692f636f6d70757465732f6c6172732d677075/home/azureuser/furniture-diffusion/test_furnituresim.ipynb#X12sdnNjb2RlLXJlbW90ZQ%3D%3D?line=0'>1</a>\u001b[0m env\u001b[39m.\u001b[39;49mreset()\n",
      "File \u001b[0;32m~/miniconda3/envs/rlgpu/lib/python3.8/site-packages/gym/wrappers/order_enforcing.py:18\u001b[0m, in \u001b[0;36mOrderEnforcing.reset\u001b[0;34m(self, **kwargs)\u001b[0m\n\u001b[1;32m     16\u001b[0m \u001b[39mdef\u001b[39;00m \u001b[39mreset\u001b[39m(\u001b[39mself\u001b[39m, \u001b[39m*\u001b[39m\u001b[39m*\u001b[39mkwargs):\n\u001b[1;32m     17\u001b[0m     \u001b[39mself\u001b[39m\u001b[39m.\u001b[39m_has_reset \u001b[39m=\u001b[39m \u001b[39mTrue\u001b[39;00m\n\u001b[0;32m---> 18\u001b[0m     \u001b[39mreturn\u001b[39;00m \u001b[39mself\u001b[39;49m\u001b[39m.\u001b[39;49menv\u001b[39m.\u001b[39;49mreset(\u001b[39m*\u001b[39;49m\u001b[39m*\u001b[39;49mkwargs)\n",
      "File \u001b[0;32m~/miniconda3/envs/rlgpu/lib/python3.8/site-packages/furniture_bench/envs/furniture_sim_env.py:992\u001b[0m, in \u001b[0;36mFurnitureSimEnv.reset\u001b[0;34m(self)\u001b[0m\n\u001b[1;32m    989\u001b[0m \u001b[39mif\u001b[39;00m \u001b[39mself\u001b[39m\u001b[39m.\u001b[39msave_camera_input:\n\u001b[1;32m    990\u001b[0m     \u001b[39mself\u001b[39m\u001b[39m.\u001b[39m_save_camera_input()\n\u001b[0;32m--> 992\u001b[0m \u001b[39mreturn\u001b[39;00m \u001b[39mself\u001b[39;49m\u001b[39m.\u001b[39;49m_get_observation()\n",
      "File \u001b[0;32m~/miniconda3/envs/rlgpu/lib/python3.8/site-packages/furniture_bench/envs/furniture_sim_env.py:964\u001b[0m, in \u001b[0;36mFurnitureSimEnv._get_observation\u001b[0;34m(self)\u001b[0m\n\u001b[1;32m    962\u001b[0m             img \u001b[39m=\u001b[39m img\u001b[39m.\u001b[39mtranspose(\u001b[39m0\u001b[39m, \u001b[39m2\u001b[39m, \u001b[39m3\u001b[39m, \u001b[39m1\u001b[39m)\n\u001b[1;32m    963\u001b[0m         record_images\u001b[39m.\u001b[39mappend(img\u001b[39m.\u001b[39msqueeze())\n\u001b[0;32m--> 964\u001b[0m     stacked_img \u001b[39m=\u001b[39m np\u001b[39m.\u001b[39;49mhstack(record_images)\n\u001b[1;32m    965\u001b[0m     \u001b[39mself\u001b[39m\u001b[39m.\u001b[39mvideo_writer\u001b[39m.\u001b[39mwrite(cv2\u001b[39m.\u001b[39mcvtColor(stacked_img, cv2\u001b[39m.\u001b[39mCOLOR_RGB2BGR))\n\u001b[1;32m    967\u001b[0m obs \u001b[39m=\u001b[39m {}\n",
      "File \u001b[0;32m<__array_function__ internals>:180\u001b[0m, in \u001b[0;36mhstack\u001b[0;34m(*args, **kwargs)\u001b[0m\n",
      "File \u001b[0;32m~/miniconda3/envs/rlgpu/lib/python3.8/site-packages/numpy/core/shape_base.py:345\u001b[0m, in \u001b[0;36mhstack\u001b[0;34m(tup)\u001b[0m\n\u001b[1;32m    343\u001b[0m     \u001b[39mreturn\u001b[39;00m _nx\u001b[39m.\u001b[39mconcatenate(arrs, \u001b[39m0\u001b[39m)\n\u001b[1;32m    344\u001b[0m \u001b[39melse\u001b[39;00m:\n\u001b[0;32m--> 345\u001b[0m     \u001b[39mreturn\u001b[39;00m _nx\u001b[39m.\u001b[39;49mconcatenate(arrs, \u001b[39m1\u001b[39;49m)\n",
      "File \u001b[0;32m<__array_function__ internals>:180\u001b[0m, in \u001b[0;36mconcatenate\u001b[0;34m(*args, **kwargs)\u001b[0m\n",
      "\u001b[0;31mValueError\u001b[0m: need at least one array to concatenate"
     ]
    }
   ],
   "source": [
    "env.reset()"
   ]
  },
  {
   "cell_type": "code",
   "execution_count": 4,
   "metadata": {},
   "outputs": [],
   "source": [
    "done = False\n",
    "\n",
    "while not done:\n",
    "    ac = torch.tensor(env.action_space.sample()).float().to('cuda') # (1, 8) torch.Tensor\n",
    "    ob, rew, done, _ = env.step(ac)"
   ]
  },
  {
   "cell_type": "code",
   "execution_count": 5,
   "metadata": {},
   "outputs": [
    {
     "data": {
      "text/plain": [
       "tensor([[False]], device='cuda:0')"
      ]
     },
     "execution_count": 5,
     "metadata": {},
     "output_type": "execute_result"
    }
   ],
   "source": []
  },
  {
   "cell_type": "code",
   "execution_count": null,
   "metadata": {},
   "outputs": [],
   "source": []
  }
 ],
 "metadata": {
  "kernelspec": {
   "display_name": "Python 3",
   "language": "python",
   "name": "python3"
  },
  "language_info": {
   "codemirror_mode": {
    "name": "ipython",
    "version": 3
   },
   "file_extension": ".py",
   "mimetype": "text/x-python",
   "name": "python",
   "nbconvert_exporter": "python",
   "pygments_lexer": "ipython3",
   "version": "3.8.17"
  },
  "orig_nbformat": 4
 },
 "nbformat": 4,
 "nbformat_minor": 2
}
