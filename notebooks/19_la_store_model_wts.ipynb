{
 "cells": [
  {
   "cell_type": "code",
   "execution_count": 10,
   "metadata": {},
   "outputs": [],
   "source": [
    "import os\n",
    "import wandb\n",
    "import torch\n",
    "from pathlib import Path\n",
    "\n",
    "def download_and_modify_weights(run_id, output_folder):\n",
    "    # Initialize wandb API\n",
    "    api = wandb.Api()\n",
    "\n",
    "    # Get the run\n",
    "    try:\n",
    "        run = api.run(run_id)\n",
    "    except wandb.errors.CommError:\n",
    "        print(f\"Error: Unable to find run with id {run_id}\")\n",
    "        return\n",
    "\n",
    "    # Find the file ending with 'best_success_rate.pt'\n",
    "    best_file = None\n",
    "    for file in run.files():\n",
    "        if file.name.endswith('best_success_rate.pt'):\n",
    "            best_file = file\n",
    "            break\n",
    "\n",
    "    if not best_file:\n",
    "        print(f\"Error: No file ending with 'best_success_rate.pt' found for run {run_id}\")\n",
    "        return\n",
    "\n",
    "    # Download the file\n",
    "    best_file.download(replace=True)\n",
    "\n",
    "    # Load the weights\n",
    "    weights = torch.load(best_file.name)\n",
    "\n",
    "    # Add the run config to the weights\n",
    "    weights['config'] = run.config\n",
    "\n",
    "    # Create the output folder if it doesn't exist\n",
    "    output_folder = Path(output_folder)\n",
    "    output_folder.mkdir(parents=True, exist_ok=True)\n",
    "\n",
    "    # Save the modified weights with the new simplified filename\n",
    "    output_path = output_folder / \"actor_chkpt.pt\"\n",
    "    \n",
    "    torch.save(weights, str(output_path))\n",
    "\n",
    "    print(f\"Modified weights for run {run_id} saved to {output_path}\")\n",
    "\n",
    "def process_runs(run_dict):\n",
    "    checkpoint_path = Path(os.environ.get('CHECKPOINT_PATH', ''))\n",
    "    \n",
    "    for output_folder, run_id in run_dict.items():\n",
    "        full_output_path = checkpoint_path / output_folder\n",
    "        print(f\"Processing run {run_id} to output folder {full_output_path}\")\n",
    "        download_and_modify_weights(run_id, full_output_path)"
   ]
  },
  {
   "cell_type": "code",
   "execution_count": 11,
   "metadata": {},
   "outputs": [],
   "source": [
    "os.environ[\"CHECKPOINT_PATH\"] = \"/data/scratch/ankile/rr-best-checkpoints\""
   ]
  },
  {
   "cell_type": "code",
   "execution_count": 12,
   "metadata": {},
   "outputs": [
    {
     "name": "stdout",
     "output_type": "stream",
     "text": [
      "Processing run ol-state-dr-1/e3d4a367 to output folder /data/scratch/ankile/rr-best-checkpoints/bc/one_leg/low\n",
      "Modified weights for run ol-state-dr-1/e3d4a367 saved to /data/scratch/ankile/rr-best-checkpoints/bc/one_leg/low/actor_chkpt.pt\n",
      "Processing run ol-state-dr-med-1/9zjnzg4r to output folder /data/scratch/ankile/rr-best-checkpoints/bc/one_leg/med\n",
      "Modified weights for run ol-state-dr-med-1/9zjnzg4r saved to /data/scratch/ankile/rr-best-checkpoints/bc/one_leg/med/actor_chkpt.pt\n"
     ]
    }
   ],
   "source": [
    "# Example usage\n",
    "runs_to_process = {\n",
    "    \"bc/one_leg/low\": \"ol-state-dr-1/e3d4a367\",\n",
    "    \"bc/one_leg/med\": \"ol-state-dr-med-1/9zjnzg4r\",\n",
    "    \"bc/round_table/low\": None,\n",
    "    \"bc/round_table/med\": None,\n",
    "    \"bc/lamp/low\": None,\n",
    "    \"bc/lamp/med\": None,\n",
    "    \"bc/mug_rack/low\": None,\n",
    "    \"bc/factory_peg_hole/low\": None,\n",
    "    \"rppo/one_leg/low\": None,\n",
    "    \"rppo/one_leg/med\": None,\n",
    "    \"rppo/round_table/low\": None,\n",
    "    \"rppo/round_table/med\": None,\n",
    "    \"rppo/lamp/low\": None,\n",
    "    \"rppo/lamp/med\": None,\n",
    "    \"rppo/mug_rack/low\": None,\n",
    "    \"rppo/factory_peg_hole/low\": None,\n",
    "}\n",
    "\n",
    "process_runs(runs_to_process)"
   ]
  },
  {
   "cell_type": "code",
   "execution_count": null,
   "metadata": {},
   "outputs": [],
   "source": []
  }
 ],
 "metadata": {
  "kernelspec": {
   "display_name": "rr",
   "language": "python",
   "name": "python3"
  },
  "language_info": {
   "codemirror_mode": {
    "name": "ipython",
    "version": 3
   },
   "file_extension": ".py",
   "mimetype": "text/x-python",
   "name": "python",
   "nbconvert_exporter": "python",
   "pygments_lexer": "ipython3",
   "version": "3.8.19"
  }
 },
 "nbformat": 4,
 "nbformat_minor": 2
}
