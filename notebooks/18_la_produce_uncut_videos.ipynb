{
 "cells": [
  {
   "cell_type": "code",
   "execution_count": 1,
   "metadata": {},
   "outputs": [],
   "source": [
    "%load_ext autoreload\n",
    "%autoreload 2\n"
   ]
  },
  {
   "cell_type": "code",
   "execution_count": 2,
   "metadata": {},
   "outputs": [],
   "source": [
    "import os\n",
    "import random\n",
    "from pathlib import Path\n",
    "\n",
    "from tqdm import tqdm\n",
    "\n",
    "from src.common.files import get_raw_paths\n",
    "from src.visualization.render_mp4 import mp4_from_pickle_jupyter, mp4_from_pickle"
   ]
  },
  {
   "cell_type": "code",
   "execution_count": 3,
   "metadata": {},
   "outputs": [],
   "source": [
    "os.environ[\"DATA_DIR_RAW\"] = \"/data/scratch/ankile/robust-assembly-video-data\""
   ]
  },
  {
   "cell_type": "code",
   "execution_count": 4,
   "metadata": {},
   "outputs": [],
   "source": [
    "root = Path(os.environ[\"DATA_DIR_RAW\"])\n",
    "video_output_dir = root / \"videos\"\n",
    "(video_output_dir / \"rppo\").mkdir(exist_ok=True)\n",
    "(video_output_dir / \"bc\").mkdir(exist_ok=True)"
   ]
  },
  {
   "cell_type": "markdown",
   "metadata": {},
   "source": [
    "### RPPO"
   ]
  },
  {
   "cell_type": "code",
   "execution_count": 16,
   "metadata": {},
   "outputs": [
    {
     "name": "stdout",
     "output_type": "stream",
     "text": [
      "Found the following paths:\n",
      "    /data/scratch/ankile/robust-assembly-video-data/raw/diffik/sim/one_leg/rollout/low/rppo/success/*.pkl*\n",
      "    /data/scratch/ankile/robust-assembly-video-data/raw/diffik/sim/one_leg/rollout/low/rppo/failure/*.pkl*\n"
     ]
    },
    {
     "data": {
      "text/plain": [
       "1078"
      ]
     },
     "execution_count": 16,
     "metadata": {},
     "output_type": "execute_result"
    }
   ],
   "source": [
    "rppo_pickles = get_raw_paths(\n",
    "    domain=\"sim\",\n",
    "    controller=\"diffik\",\n",
    "    task=\"one_leg\",\n",
    "    demo_outcome=[\"success\", \"failure\"],\n",
    "    suffix=\"rppo\",\n",
    "    demo_source=\"rollout\",\n",
    "    randomness=\"low\",\n",
    ")\n",
    "\n",
    "random.shuffle(rppo_pickles)\n",
    "\n",
    "len(rppo_pickles)"
   ]
  },
  {
   "cell_type": "code",
   "execution_count": 17,
   "metadata": {},
   "outputs": [],
   "source": [
    "# Keep only files ending with .xz\n",
    "# rppo_pickles = [p for p in rppo_pickles if p.suffix == \".xz\"]\n",
    "\n",
    "# len(rppo_pickles)"
   ]
  },
  {
   "cell_type": "code",
   "execution_count": 21,
   "metadata": {},
   "outputs": [
    {
     "name": "stderr",
     "output_type": "stream",
     "text": [
      "  0%|          | 2/1000 [00:08<1:14:47,  4.50s/it]"
     ]
    },
    {
     "name": "stderr",
     "output_type": "stream",
     "text": [
      "\n",
      " 27%|██▋       | 274/1000 [09:43<32:12,  2.66s/it]"
     ]
    }
   ],
   "source": [
    "successful_renders = 0\n",
    "i = 0\n",
    "\n",
    "it = tqdm(total=1000)\n",
    "\n",
    "while successful_renders < 1000 and i < len(rppo_pickles):\n",
    "    pkl = rppo_pickles[i]\n",
    "    try:\n",
    "        mp4_from_pickle(pkl, video_output_dir / \"rppo\" / f\"{successful_renders:04d}.mp4\", fps=40, cameras=[2])\n",
    "        successful_renders += 1\n",
    "        it.update(1)\n",
    "    except EOFError:\n",
    "        print(f\"Failed to render {pkl}, deleting file.\")\n",
    "        pkl.unlink()\n",
    "    i += 1"
   ]
  },
  {
   "cell_type": "code",
   "execution_count": 7,
   "metadata": {},
   "outputs": [],
   "source": [
    "# Make a txt file with the list of videos\n",
    "with open(video_output_dir / \"rppo\" / \"videos.txt\", \"w\") as f:\n",
    "    for i in range(len(rppo_pickles)):\n",
    "        f.write(f\"file '{i:04d}.mp4'\\n\")\n"
   ]
  },
  {
   "cell_type": "markdown",
   "metadata": {},
   "source": [
    "### BC"
   ]
  },
  {
   "cell_type": "code",
   "execution_count": 14,
   "metadata": {},
   "outputs": [
    {
     "name": "stdout",
     "output_type": "stream",
     "text": [
      "Found the following paths:\n",
      "    /data/scratch/ankile/robust-assembly-video-data/raw/diffik/sim/one_leg/rollout/low/bc/success/*.pkl*\n",
      "    /data/scratch/ankile/robust-assembly-video-data/raw/diffik/sim/one_leg/rollout/low/bc/failure/*.pkl*\n"
     ]
    },
    {
     "data": {
      "text/plain": [
       "1050"
      ]
     },
     "execution_count": 14,
     "metadata": {},
     "output_type": "execute_result"
    }
   ],
   "source": [
    "bc_pickles = get_raw_paths(\n",
    "    domain=\"sim\",\n",
    "    controller=\"diffik\",\n",
    "    task=\"one_leg\",\n",
    "    demo_outcome=[\"success\", \"failure\"],\n",
    "    suffix=\"bc\",\n",
    "    demo_source=\"rollout\",\n",
    "    randomness=\"low\",\n",
    ")\n",
    "\n",
    "random.shuffle(bc_pickles)\n",
    "\n",
    "len(bc_pickles)"
   ]
  },
  {
   "cell_type": "code",
   "execution_count": 15,
   "metadata": {},
   "outputs": [
    {
     "name": "stderr",
     "output_type": "stream",
     "text": [
      "  2%|▏         | 21/1000 [00:57<32:42,  2.01s/it] "
     ]
    },
    {
     "name": "stdout",
     "output_type": "stream",
     "text": [
      "Failed to render /data/scratch/ankile/robust-assembly-video-data/raw/diffik/sim/one_leg/rollout/low/bc/failure/2024-09-25T17:01:53.983973.pkl.xz\n"
     ]
    },
    {
     "name": "stderr",
     "output_type": "stream",
     "text": [
      " 19%|█▉        | 188/1000 [08:00<22:29,  1.66s/it]"
     ]
    },
    {
     "name": "stdout",
     "output_type": "stream",
     "text": [
      "Failed to render /data/scratch/ankile/robust-assembly-video-data/raw/diffik/sim/one_leg/rollout/low/bc/success/2024-09-26T15:33:23.759284.pkl.xz\n"
     ]
    },
    {
     "name": "stderr",
     "output_type": "stream",
     "text": [
      " 26%|██▌       | 258/1000 [10:37<30:32,  2.47s/it]\n"
     ]
    },
    {
     "ename": "KeyboardInterrupt",
     "evalue": "",
     "output_type": "error",
     "traceback": [
      "\u001b[0;31m---------------------------------------------------------------------------\u001b[0m",
      "\u001b[0;31mKeyboardInterrupt\u001b[0m                         Traceback (most recent call last)",
      "Cell \u001b[0;32mIn[15], line 3\u001b[0m\n\u001b[1;32m      1\u001b[0m \u001b[38;5;28;01mfor\u001b[39;00m i, pkl \u001b[38;5;129;01min\u001b[39;00m \u001b[38;5;28menumerate\u001b[39m(tqdm(bc_pickles[\u001b[38;5;241m0\u001b[39m:\u001b[38;5;241m1_000\u001b[39m]), start\u001b[38;5;241m=\u001b[39m\u001b[38;5;241m0\u001b[39m):\n\u001b[1;32m      2\u001b[0m     \u001b[38;5;28;01mtry\u001b[39;00m:\n\u001b[0;32m----> 3\u001b[0m         \u001b[43mmp4_from_pickle\u001b[49m\u001b[43m(\u001b[49m\u001b[43mpkl\u001b[49m\u001b[43m,\u001b[49m\u001b[43m \u001b[49m\u001b[43mvideo_output_dir\u001b[49m\u001b[43m \u001b[49m\u001b[38;5;241;43m/\u001b[39;49m\u001b[43m \u001b[49m\u001b[38;5;124;43m\"\u001b[39;49m\u001b[38;5;124;43mbc\u001b[39;49m\u001b[38;5;124;43m\"\u001b[39;49m\u001b[43m \u001b[49m\u001b[38;5;241;43m/\u001b[39;49m\u001b[43m \u001b[49m\u001b[38;5;124;43mf\u001b[39;49m\u001b[38;5;124;43m\"\u001b[39;49m\u001b[38;5;132;43;01m{\u001b[39;49;00m\u001b[43mi\u001b[49m\u001b[38;5;132;43;01m:\u001b[39;49;00m\u001b[38;5;124;43m04d\u001b[39;49m\u001b[38;5;132;43;01m}\u001b[39;49;00m\u001b[38;5;124;43m.mp4\u001b[39;49m\u001b[38;5;124;43m\"\u001b[39;49m\u001b[43m,\u001b[49m\u001b[43m \u001b[49m\u001b[43mfps\u001b[49m\u001b[38;5;241;43m=\u001b[39;49m\u001b[38;5;241;43m40\u001b[39;49m\u001b[43m,\u001b[49m\u001b[43m \u001b[49m\u001b[43mcameras\u001b[49m\u001b[38;5;241;43m=\u001b[39;49m\u001b[43m[\u001b[49m\u001b[38;5;241;43m2\u001b[39;49m\u001b[43m]\u001b[49m\u001b[43m)\u001b[49m\n\u001b[1;32m      4\u001b[0m     \u001b[38;5;28;01mexcept\u001b[39;00m \u001b[38;5;167;01mEOFError\u001b[39;00m:\n\u001b[1;32m      5\u001b[0m         \u001b[38;5;28mprint\u001b[39m(\u001b[38;5;124mf\u001b[39m\u001b[38;5;124m\"\u001b[39m\u001b[38;5;124mFailed to render \u001b[39m\u001b[38;5;132;01m{\u001b[39;00mpkl\u001b[38;5;132;01m}\u001b[39;00m\u001b[38;5;124m\"\u001b[39m)\n",
      "File \u001b[0;32m/data/scratch/ankile/robust-rearrangement/src/visualization/render_mp4.py:107\u001b[0m, in \u001b[0;36mmp4_from_pickle\u001b[0;34m(pickle_path, filename, fps, cameras)\u001b[0m\n\u001b[1;32m    105\u001b[0m \u001b[38;5;28;01mdef\u001b[39;00m \u001b[38;5;21mmp4_from_pickle\u001b[39m(pickle_path, filename\u001b[38;5;241m=\u001b[39m\u001b[38;5;28;01mNone\u001b[39;00m, fps\u001b[38;5;241m=\u001b[39m\u001b[38;5;241m10\u001b[39m, cameras\u001b[38;5;241m=\u001b[39m[\u001b[38;5;241m1\u001b[39m, \u001b[38;5;241m2\u001b[39m]):\n\u001b[1;32m    106\u001b[0m     ims \u001b[38;5;241m=\u001b[39m extract_numpy_frames(pickle_path, cameras)\n\u001b[0;32m--> 107\u001b[0m     \u001b[43mcreate_mp4\u001b[49m\u001b[43m(\u001b[49m\u001b[43mims\u001b[49m\u001b[43m,\u001b[49m\u001b[43m \u001b[49m\u001b[43mfilename\u001b[49m\u001b[43m,\u001b[49m\u001b[43m \u001b[49m\u001b[43mfps\u001b[49m\u001b[43m)\u001b[49m\n",
      "File \u001b[0;32m/data/scratch/ankile/robust-rearrangement/src/visualization/render_mp4.py:99\u001b[0m, in \u001b[0;36mcreate_mp4\u001b[0;34m(np_images, filename, fps, verbose)\u001b[0m\n\u001b[1;32m     97\u001b[0m \u001b[38;5;28;01mwith\u001b[39;00m imageio\u001b[38;5;241m.\u001b[39mget_writer(filename, fps\u001b[38;5;241m=\u001b[39mfps) \u001b[38;5;28;01mas\u001b[39;00m writer:\n\u001b[1;32m     98\u001b[0m     \u001b[38;5;28;01mfor\u001b[39;00m img \u001b[38;5;129;01min\u001b[39;00m tqdm(np_images, disable\u001b[38;5;241m=\u001b[39m\u001b[38;5;129;01mnot\u001b[39;00m verbose):\n\u001b[0;32m---> 99\u001b[0m         \u001b[43mwriter\u001b[49m\u001b[38;5;241;43m.\u001b[39;49m\u001b[43mappend_data\u001b[49m\u001b[43m(\u001b[49m\u001b[43mimg\u001b[49m\u001b[43m)\u001b[49m\n\u001b[1;32m    101\u001b[0m \u001b[38;5;28;01mif\u001b[39;00m verbose:\n\u001b[1;32m    102\u001b[0m     \u001b[38;5;28mprint\u001b[39m(\u001b[38;5;124mf\u001b[39m\u001b[38;5;124m\"\u001b[39m\u001b[38;5;124mFile saved as \u001b[39m\u001b[38;5;132;01m{\u001b[39;00mfilename\u001b[38;5;132;01m}\u001b[39;00m\u001b[38;5;124m\"\u001b[39m)\n",
      "File \u001b[0;32m/data/scratch/ankile/miniconda3/envs/rr/lib/python3.8/site-packages/imageio/core/format.py:590\u001b[0m, in \u001b[0;36mFormat.Writer.append_data\u001b[0;34m(self, im, meta)\u001b[0m\n\u001b[1;32m    588\u001b[0m im \u001b[38;5;241m=\u001b[39m asarray(im)\n\u001b[1;32m    589\u001b[0m \u001b[38;5;66;03m# Call\u001b[39;00m\n\u001b[0;32m--> 590\u001b[0m \u001b[38;5;28;01mreturn\u001b[39;00m \u001b[38;5;28;43mself\u001b[39;49m\u001b[38;5;241;43m.\u001b[39;49m\u001b[43m_append_data\u001b[49m\u001b[43m(\u001b[49m\u001b[43mim\u001b[49m\u001b[43m,\u001b[49m\u001b[43m \u001b[49m\u001b[43mtotal_meta\u001b[49m\u001b[43m)\u001b[49m\n",
      "File \u001b[0;32m/data/scratch/ankile/miniconda3/envs/rr/lib/python3.8/site-packages/imageio/plugins/ffmpeg.py:600\u001b[0m, in \u001b[0;36mFfmpegFormat.Writer._append_data\u001b[0;34m(self, im, meta)\u001b[0m\n\u001b[1;32m    597\u001b[0m \u001b[38;5;28;01massert\u001b[39;00m \u001b[38;5;28mself\u001b[39m\u001b[38;5;241m.\u001b[39m_write_gen \u001b[38;5;129;01mis\u001b[39;00m \u001b[38;5;129;01mnot\u001b[39;00m \u001b[38;5;28;01mNone\u001b[39;00m  \u001b[38;5;66;03m# Check status\u001b[39;00m\n\u001b[1;32m    599\u001b[0m \u001b[38;5;66;03m# Write. Yes, we can send the data in as a numpy array\u001b[39;00m\n\u001b[0;32m--> 600\u001b[0m \u001b[38;5;28;43mself\u001b[39;49m\u001b[38;5;241;43m.\u001b[39;49m\u001b[43m_write_gen\u001b[49m\u001b[38;5;241;43m.\u001b[39;49m\u001b[43msend\u001b[49m\u001b[43m(\u001b[49m\u001b[43mim\u001b[49m\u001b[43m)\u001b[49m\n",
      "File \u001b[0;32m/data/scratch/ankile/miniconda3/envs/rr/lib/python3.8/site-packages/imageio_ffmpeg/_io.py:627\u001b[0m, in \u001b[0;36mwrite_frames\u001b[0;34m(path, size, pix_fmt_in, pix_fmt_out, fps, quality, bitrate, codec, macro_block_size, ffmpeg_log_level, ffmpeg_timeout, input_params, output_params, audio_path, audio_codec)\u001b[0m\n\u001b[1;32m    619\u001b[0m \u001b[38;5;66;03m# framesize = size[0] * size[1] * depth * bpp\u001b[39;00m\n\u001b[1;32m    620\u001b[0m \u001b[38;5;66;03m# assert isinstance(bb, bytes), \"Frame must be send as bytes\"\u001b[39;00m\n\u001b[1;32m    621\u001b[0m \u001b[38;5;66;03m# assert len(bb) == framesize, \"Frame must have width*height*depth*bpp bytes\"\u001b[39;00m\n\u001b[0;32m   (...)\u001b[0m\n\u001b[1;32m    624\u001b[0m \n\u001b[1;32m    625\u001b[0m \u001b[38;5;66;03m# Write\u001b[39;00m\n\u001b[1;32m    626\u001b[0m \u001b[38;5;28;01mtry\u001b[39;00m:\n\u001b[0;32m--> 627\u001b[0m     \u001b[43mp\u001b[49m\u001b[38;5;241;43m.\u001b[39;49m\u001b[43mstdin\u001b[49m\u001b[38;5;241;43m.\u001b[39;49m\u001b[43mwrite\u001b[49m\u001b[43m(\u001b[49m\u001b[43mbb\u001b[49m\u001b[43m)\u001b[49m\n\u001b[1;32m    628\u001b[0m \u001b[38;5;28;01mexcept\u001b[39;00m \u001b[38;5;167;01mException\u001b[39;00m \u001b[38;5;28;01mas\u001b[39;00m err:\n\u001b[1;32m    629\u001b[0m     \u001b[38;5;66;03m# Show the command and stderr from pipe\u001b[39;00m\n\u001b[1;32m    630\u001b[0m     msg \u001b[38;5;241m=\u001b[39m (\n\u001b[1;32m    631\u001b[0m         \u001b[38;5;124m\"\u001b[39m\u001b[38;5;132;01m{0:}\u001b[39;00m\u001b[38;5;130;01m\\n\u001b[39;00m\u001b[38;5;130;01m\\n\u001b[39;00m\u001b[38;5;124mFFMPEG COMMAND:\u001b[39m\u001b[38;5;130;01m\\n\u001b[39;00m\u001b[38;5;132;01m{1:}\u001b[39;00m\u001b[38;5;130;01m\\n\u001b[39;00m\u001b[38;5;130;01m\\n\u001b[39;00m\u001b[38;5;124mFFMPEG STDERR \u001b[39m\u001b[38;5;124m\"\u001b[39m\n\u001b[1;32m    632\u001b[0m         \u001b[38;5;124m\"\u001b[39m\u001b[38;5;124mOUTPUT:\u001b[39m\u001b[38;5;130;01m\\n\u001b[39;00m\u001b[38;5;124m\"\u001b[39m\u001b[38;5;241m.\u001b[39mformat(err, cmd_str)\n\u001b[1;32m    633\u001b[0m     )\n",
      "\u001b[0;31mKeyboardInterrupt\u001b[0m: "
     ]
    }
   ],
   "source": [
    "successful_renders = 0\n",
    "i = 0\n",
    "\n",
    "it = tqdm(total=1000)\n",
    "\n",
    "while successful_renders < 1000 and i < len(bc_pickles):\n",
    "    pkl = bc_pickles[i]\n",
    "    try:\n",
    "        mp4_from_pickle(pkl, video_output_dir / \"bc\" / f\"{successful_renders:04d}.mp4\", fps=40, cameras=[2])\n",
    "        successful_renders += 1\n",
    "        it.update(1)\n",
    "    except EOFError:\n",
    "        print(f\"Failed to render {pkl}, deleting file.\")\n",
    "        pkl.unlink()\n",
    "    i += 1"
   ]
  },
  {
   "cell_type": "code",
   "execution_count": null,
   "metadata": {},
   "outputs": [],
   "source": [
    "# Make a txt file with the list of videos\n",
    "with open(video_output_dir / \"bc\" / \"videos.txt\", \"w\") as f:\n",
    "    for i in range(len(rppo_pickles)):\n",
    "        f.write(f\"file '{i:04d}.mp4'\\n\")\n"
   ]
  },
  {
   "cell_type": "code",
   "execution_count": null,
   "metadata": {},
   "outputs": [],
   "source": []
  }
 ],
 "metadata": {
  "kernelspec": {
   "display_name": "rr",
   "language": "python",
   "name": "python3"
  },
  "language_info": {
   "codemirror_mode": {
    "name": "ipython",
    "version": 3
   },
   "file_extension": ".py",
   "mimetype": "text/x-python",
   "name": "python",
   "nbconvert_exporter": "python",
   "pygments_lexer": "ipython3",
   "version": "3.8.19"
  }
 },
 "nbformat": 4,
 "nbformat_minor": 2
}
