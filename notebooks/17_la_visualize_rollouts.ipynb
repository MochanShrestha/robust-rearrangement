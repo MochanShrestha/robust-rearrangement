{
 "cells": [
  {
   "cell_type": "code",
   "execution_count": 6,
   "metadata": {},
   "outputs": [],
   "source": [
    "from src.common.files import get_raw_paths\n",
    "from src.visualization.render_mp4 import mp4_from_pickle_jupyter"
   ]
  },
  {
   "cell_type": "code",
   "execution_count": 5,
   "metadata": {},
   "outputs": [
    {
     "name": "stdout",
     "output_type": "stream",
     "text": [
      "Found the following paths:\n",
      "    /data/scratch-oc40/pulkitag/ankile/furniture-data/raw/diffik/sim/one_leg/rollout/low/rppo_10_demos/success/*.pkl*\n"
     ]
    },
    {
     "data": {
      "text/plain": [
       "[PosixPath('/data/scratch-oc40/pulkitag/ankile/furniture-data/raw/diffik/sim/one_leg/rollout/low/rppo_10_demos/success/2024-08-10T17:13:16.488503.pkl'),\n",
       " PosixPath('/data/scratch-oc40/pulkitag/ankile/furniture-data/raw/diffik/sim/one_leg/rollout/low/rppo_10_demos/success/2024-08-10T17:12:53.424737.pkl'),\n",
       " PosixPath('/data/scratch-oc40/pulkitag/ankile/furniture-data/raw/diffik/sim/one_leg/rollout/low/rppo_10_demos/success/2024-08-10T17:13:27.085348.pkl')]"
      ]
     },
     "execution_count": 5,
     "metadata": {},
     "output_type": "execute_result"
    }
   ],
   "source": [
    "paths = get_raw_paths(\n",
    "    domain=\"sim\",\n",
    "    demo_source=\"rollout\",\n",
    "    controller=\"diffik\",\n",
    "    randomness=\"low\",\n",
    "    task=\"one_leg\",\n",
    "    demo_outcome=\"success\",\n",
    "    suffix=\"rppo_10_demos\",\n",
    ")\n",
    "\n",
    "paths"
   ]
  },
  {
   "cell_type": "code",
   "execution_count": 9,
   "metadata": {},
   "outputs": [
    {
     "name": "stdout",
     "output_type": "stream",
     "text": [
      "File saved as rppo_10_demos_0.mp4\n"
     ]
    },
    {
     "data": {
      "text/html": [
       "<video controls src=\"rppo_10_demos_0.mp4\" width=\"640\" height=\"480\"></video>"
      ],
      "text/plain": [
       "<IPython.core.display.HTML object>"
      ]
     },
     "metadata": {},
     "output_type": "display_data"
    },
    {
     "name": "stdout",
     "output_type": "stream",
     "text": [
      "File saved as rppo_10_demos_1.mp4\n"
     ]
    },
    {
     "data": {
      "text/html": [
       "<video controls src=\"rppo_10_demos_1.mp4\" width=\"640\" height=\"480\"></video>"
      ],
      "text/plain": [
       "<IPython.core.display.HTML object>"
      ]
     },
     "metadata": {},
     "output_type": "display_data"
    },
    {
     "name": "stdout",
     "output_type": "stream",
     "text": [
      "File saved as rppo_10_demos_2.mp4\n"
     ]
    },
    {
     "data": {
      "text/html": [
       "<video controls src=\"rppo_10_demos_2.mp4\" width=\"640\" height=\"480\"></video>"
      ],
      "text/plain": [
       "<IPython.core.display.HTML object>"
      ]
     },
     "metadata": {},
     "output_type": "display_data"
    }
   ],
   "source": [
    "for i, path in enumerate(paths):\n",
    "\n",
    "    mp4_from_pickle_jupyter(path, filename=f\"rppo_10_demos_{i}.mp4\")"
   ]
  },
  {
   "cell_type": "code",
   "execution_count": null,
   "metadata": {},
   "outputs": [],
   "source": []
  }
 ],
 "metadata": {
  "kernelspec": {
   "display_name": "rr",
   "language": "python",
   "name": "python3"
  },
  "language_info": {
   "codemirror_mode": {
    "name": "ipython",
    "version": 3
   },
   "file_extension": ".py",
   "mimetype": "text/x-python",
   "name": "python",
   "nbconvert_exporter": "python",
   "pygments_lexer": "ipython3",
   "version": "3.8.19"
  }
 },
 "nbformat": 4,
 "nbformat_minor": 2
}
