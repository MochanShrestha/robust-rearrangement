{
 "cells": [
  {
   "cell_type": "code",
   "execution_count": 2,
   "metadata": {},
   "outputs": [
    {
     "data": {
      "text/plain": [
       "'# https://github.com/mikedh/trimesh\\nv 0.17500000 -0.01000000 -0.01500000\\nv 0.17500000 -0.01000000 0.01500000\\nv -0.17500000 -0.01000000 -0.01500000\\nv -0.17500000 -0.01000000 0.01500000\\nv 0.17500000 0.01000000 -0.01500000\\nv 0.17500000 0.01000000 0.01500000\\nv -0.17500000 0.01000000 -0.01500000\\nv -0.17500000 0.01000000 0.01500000\\nv 0.18500000 -0.01000000 -0.01500000\\nv 0.18500000 -0.01000000 0.01500000\\nv 0.16500000 -0.01000000 -0.01500000\\nv 0.16500000 -0.01000000 0.01500000\\nv 0.18500000 0.16000000 -0.01500000\\nv 0.18500000 0.16000000 0.01500000\\nv 0.16500000 0.16000000 -0.01500000\\nv 0.16500000 0.16000000 0.01500000\\nv -0.16500000 -0.01000000 -0.01500000\\nv -0.16500000 -0.01000000 0.01500000\\nv -0.18500000 -0.01000000 -0.01500000\\nv -0.18500000 -0.01000000 0.01500000\\nv -0.16500000 0.16000000 -0.01500000\\nv -0.16500000 0.16000000 0.01500000\\nv -0.18500000 0.16000000 -0.01500000\\nv -0.18500000 0.16000000 0.01500000\\nf 1 2 4\\nf 3 4 8\\nf 7 8 6\\nf 5 6 2\\nf 3 7 5\\nf 8 4 2\\nf 4 3 1\\nf 8 7 3\\nf 6 5 7\\nf 2 1 5\\nf 5 1 3\\nf 2 6 8\\nf 9 10 12\\nf 11 12 16\\nf 15 16 14\\nf 13 14 10\\nf 11 15 13\\nf 16 12 10\\nf 12 11 9\\nf 16 15 11\\nf 14 13 15\\nf 10 9 13\\nf 13 9 11\\nf 10 14 16\\nf 17 18 20\\nf 19 20 24\\nf 23 24 22\\nf 21 22 18\\nf 19 23 21\\nf 24 20 18\\nf 20 19 17\\nf 24 23 19\\nf 22 21 23\\nf 18 17 21\\nf 21 17 19\\nf 18 22 24\\n\\n'"
      ]
     },
     "execution_count": 2,
     "metadata": {},
     "output_type": "execute_result"
    }
   ],
   "source": [
    "import trimesh\n",
    "import numpy as np\n",
    "\n",
    "# Load the individual OBJ files\n",
    "mesh_front = trimesh.load_mesh('/data/scratch/ankile/robust-rearrangement/src/assets/furniture/mesh/obstacle_front.obj')\n",
    "mesh_right = trimesh.load_mesh('/data/scratch/ankile/robust-rearrangement/src/assets/furniture/mesh/obstacle_side.obj')\n",
    "mesh_left = trimesh.load_mesh('/data/scratch/ankile/robust-rearrangement/src/assets/furniture/mesh/obstacle_side.obj')\n",
    "\n",
    "# Create transformation matrices based on the <origin> tags in the URDF\n",
    "transform_front = np.eye(4)\n",
    "transform_right = np.eye(4)\n",
    "transform_right[:3, 3] = [0.175, 0.075, 0]\n",
    "transform_left = np.eye(4)\n",
    "transform_left[:3, 3] = [-0.175, 0.075, 0]\n",
    "\n",
    "# Apply the transformations to the meshes\n",
    "mesh_front.apply_transform(transform_front)\n",
    "mesh_right.apply_transform(transform_right)\n",
    "mesh_left.apply_transform(transform_left)\n",
    "\n",
    "\n",
    "# Combine the meshes by appending their faces and vertices\n",
    "combined_mesh = trimesh.Trimesh(vertices=np.vstack((mesh_front.vertices, mesh_right.vertices, mesh_left.vertices)),\n",
    "                                faces=np.vstack((mesh_front.faces, mesh_right.faces + len(mesh_front.vertices),\n",
    "                                                 mesh_left.faces + len(mesh_front.vertices) + len(mesh_right.vertices))),\n",
    "                                process=False)\n",
    "\n",
    "\n",
    "# Save the merged mesh to a new OBJ file\n",
    "combined_mesh.export('/data/scratch/ankile/robust-rearrangement/src/assets/furniture/mesh/obstacle.obj')"
   ]
  },
  {
   "cell_type": "code",
   "execution_count": 4,
   "metadata": {},
   "outputs": [
    {
     "data": {
      "text/plain": [
       "'# https://github.com/mikedh/trimesh\\n\\no obstacle_front.obj\\nv 0.17500000 -0.01000000 -0.01500000\\nv 0.17500000 -0.01000000 0.01500000\\nv -0.17500000 -0.01000000 -0.01500000\\nv -0.17500000 -0.01000000 0.01500000\\nv 0.17500000 0.01000000 -0.01500000\\nv 0.17500000 0.01000000 0.01500000\\nv -0.17500000 0.01000000 -0.01500000\\nv -0.17500000 0.01000000 0.01500000\\nf 1 2 4\\nf 3 4 8\\nf 7 8 6\\nf 5 6 2\\nf 3 7 5\\nf 8 4 2\\nf 4 3 1\\nf 8 7 3\\nf 6 5 7\\nf 2 1 5\\nf 5 1 3\\nf 2 6 8\\n\\no obstacle_side.obj\\nv 0.18500000 -0.01000000 -0.01500000\\nv 0.18500000 -0.01000000 0.01500000\\nv 0.16500000 -0.01000000 -0.01500000\\nv 0.16500000 -0.01000000 0.01500000\\nv 0.18500000 0.16000000 -0.01500000\\nv 0.18500000 0.16000000 0.01500000\\nv 0.16500000 0.16000000 -0.01500000\\nv 0.16500000 0.16000000 0.01500000\\nf 9 10 12\\nf 11 12 16\\nf 15 16 14\\nf 13 14 10\\nf 11 15 13\\nf 16 12 10\\nf 12 11 9\\nf 16 15 11\\nf 14 13 15\\nf 10 9 13\\nf 13 9 11\\nf 10 14 16\\n\\no obstacle_side.obj_1\\nv -0.16500000 -0.01000000 -0.01500000\\nv -0.16500000 -0.01000000 0.01500000\\nv -0.18500000 -0.01000000 -0.01500000\\nv -0.18500000 -0.01000000 0.01500000\\nv -0.16500000 0.16000000 -0.01500000\\nv -0.16500000 0.16000000 0.01500000\\nv -0.18500000 0.16000000 -0.01500000\\nv -0.18500000 0.16000000 0.01500000\\nf 17 18 20\\nf 19 20 24\\nf 23 24 22\\nf 21 22 18\\nf 19 23 21\\nf 24 20 18\\nf 20 19 17\\nf 24 23 19\\nf 22 21 23\\nf 18 17 21\\nf 21 17 19\\nf 18 22 24\\n\\n'"
      ]
     },
     "execution_count": 4,
     "metadata": {},
     "output_type": "execute_result"
    }
   ],
   "source": [
    "import trimesh\n",
    "import numpy as np\n",
    "\n",
    "scene = trimesh.Scene()\n",
    "\n",
    "# Load the individual OBJ files\n",
    "mesh_front = trimesh.load_mesh('/data/scratch/ankile/robust-rearrangement/src/assets/furniture/mesh/obstacle_front.obj')\n",
    "mesh_right = trimesh.load_mesh('/data/scratch/ankile/robust-rearrangement/src/assets/furniture/mesh/obstacle_side.obj')\n",
    "mesh_left = trimesh.load_mesh('/data/scratch/ankile/robust-rearrangement/src/assets/furniture/mesh/obstacle_side.obj')\n",
    "\n",
    "\n",
    "# Create transformation matrices based on the <origin> tags in the URDF\n",
    "transform_front = np.eye(4)\n",
    "transform_right = np.eye(4)\n",
    "transform_right[:3, 3] = [0.175, 0.075, 0]\n",
    "transform_left = np.eye(4)\n",
    "transform_left[:3, 3] = [-0.175, 0.075, 0]\n",
    "\n",
    "# Add the meshes to the scene with their respective transformations\n",
    "scene.add_geometry(mesh_front, transform=transform_front)\n",
    "scene.add_geometry(mesh_right, transform=transform_right)\n",
    "scene.add_geometry(mesh_left, transform=transform_left)\n",
    "\n",
    "# Export the scene as a single OBJ file\n",
    "scene.export('/data/scratch/ankile/robust-rearrangement/src/assets/furniture/mesh/obstacle.obj')"
   ]
  },
  {
   "cell_type": "code",
   "execution_count": 6,
   "metadata": {},
   "outputs": [
    {
     "ename": "KeyError",
     "evalue": "'usd'",
     "output_type": "error",
     "traceback": [
      "\u001b[0;31m---------------------------------------------------------------------------\u001b[0m",
      "\u001b[0;31mKeyError\u001b[0m                                  Traceback (most recent call last)",
      "Cell \u001b[0;32mIn[6], line 9\u001b[0m\n\u001b[1;32m      6\u001b[0m base \u001b[38;5;241m=\u001b[39m \u001b[38;5;124m\"\u001b[39m\u001b[38;5;124m/data/scratch/ankile/robust-rearrangement/src/assets/furniture/mesh/\u001b[39m\u001b[38;5;124m\"\u001b[39m\n\u001b[1;32m      8\u001b[0m \u001b[38;5;66;03m# Load the individual USD files\u001b[39;00m\n\u001b[0;32m----> 9\u001b[0m mesh_front \u001b[38;5;241m=\u001b[39m \u001b[43mtrimesh\u001b[49m\u001b[38;5;241;43m.\u001b[39;49m\u001b[43mload_mesh\u001b[49m\u001b[43m(\u001b[49m\u001b[43mbase\u001b[49m\u001b[43m \u001b[49m\u001b[38;5;241;43m+\u001b[39;49m\u001b[43m \u001b[49m\u001b[38;5;124;43m'\u001b[39;49m\u001b[38;5;124;43mobstacle_front.usd\u001b[39;49m\u001b[38;5;124;43m'\u001b[39;49m\u001b[43m)\u001b[49m\n\u001b[1;32m     10\u001b[0m mesh_right \u001b[38;5;241m=\u001b[39m trimesh\u001b[38;5;241m.\u001b[39mload_mesh(base \u001b[38;5;241m+\u001b[39m \u001b[38;5;124m'\u001b[39m\u001b[38;5;124mobstacle_side.usd\u001b[39m\u001b[38;5;124m'\u001b[39m)\n\u001b[1;32m     11\u001b[0m mesh_left \u001b[38;5;241m=\u001b[39m trimesh\u001b[38;5;241m.\u001b[39mload_mesh(base \u001b[38;5;241m+\u001b[39m \u001b[38;5;124m'\u001b[39m\u001b[38;5;124mobstacle_side.usd\u001b[39m\u001b[38;5;124m'\u001b[39m)\n",
      "File \u001b[0;32m/data/scratch/ankile/miniconda3/envs/rr/lib/python3.8/site-packages/trimesh/exchange/load.py:200\u001b[0m, in \u001b[0;36mload_mesh\u001b[0;34m(file_obj, file_type, resolver, **kwargs)\u001b[0m\n\u001b[1;32m    189\u001b[0m (\n\u001b[1;32m    190\u001b[0m     file_obj,  \u001b[38;5;66;03m# file-like object\u001b[39;00m\n\u001b[1;32m    191\u001b[0m     file_type,  \u001b[38;5;66;03m# str: what kind of file\u001b[39;00m\n\u001b[0;32m   (...)\u001b[0m\n\u001b[1;32m    194\u001b[0m     resolver,  \u001b[38;5;66;03m# Resolver: to load referenced resources\u001b[39;00m\n\u001b[1;32m    195\u001b[0m ) \u001b[38;5;241m=\u001b[39m _parse_file_args(file_obj\u001b[38;5;241m=\u001b[39mfile_obj, file_type\u001b[38;5;241m=\u001b[39mfile_type, resolver\u001b[38;5;241m=\u001b[39mresolver)\n\u001b[1;32m    197\u001b[0m \u001b[38;5;28;01mtry\u001b[39;00m:\n\u001b[1;32m    198\u001b[0m     \u001b[38;5;66;03m# make sure we keep passed kwargs to loader\u001b[39;00m\n\u001b[1;32m    199\u001b[0m     \u001b[38;5;66;03m# but also make sure loader keys override passed keys\u001b[39;00m\n\u001b[0;32m--> 200\u001b[0m     loader \u001b[38;5;241m=\u001b[39m \u001b[43mmesh_loaders\u001b[49m\u001b[43m[\u001b[49m\u001b[43mfile_type\u001b[49m\u001b[43m]\u001b[49m\n\u001b[1;32m    201\u001b[0m     tic \u001b[38;5;241m=\u001b[39m now()\n\u001b[1;32m    202\u001b[0m     results \u001b[38;5;241m=\u001b[39m loader(file_obj, file_type\u001b[38;5;241m=\u001b[39mfile_type, resolver\u001b[38;5;241m=\u001b[39mresolver, \u001b[38;5;241m*\u001b[39m\u001b[38;5;241m*\u001b[39mkwargs)\n",
      "\u001b[0;31mKeyError\u001b[0m: 'usd'"
     ]
    }
   ],
   "source": [
    "import trimesh\n",
    "import numpy as np\n",
    "\n",
    "scene = trimesh.Scene()\n",
    "\n",
    "base = \"/data/scratch/ankile/robust-rearrangement/src/assets/furniture/mesh/\"\n",
    "\n",
    "# Load the individual USD files\n",
    "mesh_front = trimesh.load_mesh(base + 'obstacle_front.usd')\n",
    "mesh_right = trimesh.load_mesh(base + 'obstacle_side.usd')\n",
    "mesh_left = trimesh.load_mesh(base + 'obstacle_side.usd')\n",
    "\n",
    "# Create transformation matrices based on the <origin> tags in the URDF\n",
    "transform_front = np.eye(4)\n",
    "transform_right = np.eye(4)\n",
    "transform_right[:3, 3] = [0.175, 0.075, 0]\n",
    "transform_left = np.eye(4)\n",
    "transform_left[:3, 3] = [-0.175, 0.075, 0]\n",
    "\n",
    "# Add the meshes to the scene with their respective transformations\n",
    "scene.add_geometry(mesh_front, transform=transform_front)\n",
    "scene.add_geometry(mesh_right, transform=transform_right)\n",
    "scene.add_geometry(mesh_left, transform=transform_left)\n",
    "\n",
    "# Export the scene as a single USD file\n",
    "scene.export(base + 'combined_obstacle.usd')"
   ]
  },
  {
   "cell_type": "code",
   "execution_count": null,
   "metadata": {},
   "outputs": [],
   "source": []
  }
 ],
 "metadata": {
  "kernelspec": {
   "display_name": "rr",
   "language": "python",
   "name": "python3"
  },
  "language_info": {
   "codemirror_mode": {
    "name": "ipython",
    "version": 3
   },
   "file_extension": ".py",
   "mimetype": "text/x-python",
   "name": "python",
   "nbconvert_exporter": "python",
   "pygments_lexer": "ipython3",
   "version": "3.8.19"
  }
 },
 "nbformat": 4,
 "nbformat_minor": 2
}
