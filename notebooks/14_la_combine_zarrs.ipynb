{
 "cells": [
  {
   "cell_type": "code",
   "execution_count": 6,
   "metadata": {},
   "outputs": [],
   "source": [
    "import zarr\n",
    "from src.common.files import get_processed_paths\n",
    "from src.dataset.zarr import combine_zarr_datasets"
   ]
  },
  {
   "cell_type": "code",
   "execution_count": 3,
   "metadata": {},
   "outputs": [
    {
     "name": "stdout",
     "output_type": "stream",
     "text": [
      "/data/scratch/ankile/furniture-data/processed/diffik/sim/one_leg/teleop/low/success.zarr /data/scratch/ankile/furniture-data/processed/diffik/sim/one_leg/teleop/low_perturb/success.zarr\n"
     ]
    }
   ],
   "source": [
    "ol_low, ol_low_perturb = get_processed_paths(\n",
    "    controller=\"diffik\",\n",
    "    demo_source=\"teleop\",\n",
    "    domain=\"sim\",\n",
    "    task=\"one_leg\",\n",
    "    demo_outcome=\"success\",\n",
    "    randomness=[\"low\", \"low_perturb\"],\n",
    ")\n",
    "\n",
    "print(ol_low, ol_low_perturb)"
   ]
  },
  {
   "cell_type": "code",
   "execution_count": 4,
   "metadata": {},
   "outputs": [
    {
     "name": "stdout",
     "output_type": "stream",
     "text": [
      "['action', 'augment_states', 'color_image1', 'color_image2', 'critical_state_id', 'episode_ends', 'failure_idx', 'furniture', 'parts_poses', 'pickle_file', 'reward', 'robot_state', 'skill', 'success'] ['action', 'augment_states', 'color_image1', 'color_image2', 'critical_state_id', 'episode_ends', 'failure_idx', 'furniture', 'parts_poses', 'pickle_file', 'reward', 'robot_state', 'skill', 'success']\n"
     ]
    }
   ],
   "source": [
    "z_low = zarr.open(ol_low)\n",
    "z_low_perturb = zarr.open(ol_low_perturb)\n",
    "\n",
    "print(list(z_low.keys()), list(z_low_perturb.keys()))"
   ]
  },
  {
   "cell_type": "code",
   "execution_count": 5,
   "metadata": {},
   "outputs": [
    {
     "data": {
      "application/vnd.jupyter.widget-view+json": {
       "model_id": "13b84ed8beca4156afcbdcbde140a552",
       "version_major": 2,
       "version_minor": 0
      },
      "text/plain": [
       "Tree(nodes=(Node(disabled=True, name='/', nodes=(Node(disabled=True, name='action', nodes=(Node(disabled=True,…"
      ]
     },
     "execution_count": 5,
     "metadata": {},
     "output_type": "execute_result"
    }
   ],
   "source": [
    "z_low.tree()"
   ]
  },
  {
   "cell_type": "code",
   "execution_count": 8,
   "metadata": {},
   "outputs": [
    {
     "name": "stderr",
     "output_type": "stream",
     "text": [
      "Loading zarr files:   0%|          | 0/2 [00:00<?, ?it/s]\n",
      "\u001b[A\n",
      "\u001b[A\n",
      "\u001b[A\n",
      "\u001b[A\n",
      "\u001b[A\n",
      "\u001b[A\n",
      "\u001b[A\n",
      "\u001b[A\n",
      "\u001b[A\n",
      "\u001b[A\n",
      "\u001b[A\n",
      "Loading zarr files: 100%|██████████| 2/2 [00:00<00:00, 17.11it/s]"
     ]
    },
    {
     "name": "stdout",
     "output_type": "stream",
     "text": [
      "dict_keys(['episode_ends', 'furniture', 'success', 'domain', 'parts_poses', 'robot_state', 'action/pos', 'failure_idx'])\n"
     ]
    },
    {
     "name": "stderr",
     "output_type": "stream",
     "text": [
      "\n"
     ]
    }
   ],
   "source": [
    "combined_data, metadata = combine_zarr_datasets(\n",
    "    [\n",
    "        ol_low,\n",
    "        ol_low_perturb,\n",
    "    ],\n",
    "    [\n",
    "        \"parts_poses\",\n",
    "        \"robot_state\",\n",
    "        f\"action/pos\",\n",
    "    ],\n",
    "    max_episodes=None,\n",
    "    max_ep_cnt=None,\n",
    ")\n",
    "\n",
    "print(combined_data.keys())"
   ]
  },
  {
   "cell_type": "code",
   "execution_count": 13,
   "metadata": {},
   "outputs": [
    {
     "data": {
      "application/vnd.jupyter.widget-view+json": {
       "model_id": "c4ad134e16da4605a5711ca3c3a5fc1f",
       "version_major": 2,
       "version_minor": 0
      },
      "text/plain": [
       "Tree(nodes=(Node(disabled=True, name='/', nodes=(Node(disabled=True, name='action', nodes=(Node(disabled=True,…"
      ]
     },
     "execution_count": 13,
     "metadata": {},
     "output_type": "execute_result"
    }
   ],
   "source": [
    "# Convert dict of arrays to zarr\n",
    "z_combined = zarr.open(\"one_leg_low.zarr\", mode=\"w\")\n",
    "for key, value in combined_data.items():\n",
    "    z_combined.array(key, value)\n",
    "\n",
    "z_combined.tree()"
   ]
  },
  {
   "cell_type": "code",
   "execution_count": null,
   "metadata": {},
   "outputs": [],
   "source": []
  }
 ],
 "metadata": {
  "kernelspec": {
   "display_name": "rr",
   "language": "python",
   "name": "python3"
  },
  "language_info": {
   "codemirror_mode": {
    "name": "ipython",
    "version": 3
   },
   "file_extension": ".py",
   "mimetype": "text/x-python",
   "name": "python",
   "nbconvert_exporter": "python",
   "pygments_lexer": "ipython3",
   "version": "3.8.19"
  }
 },
 "nbformat": 4,
 "nbformat_minor": 2
}
