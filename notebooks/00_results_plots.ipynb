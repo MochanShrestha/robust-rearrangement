{
 "cells": [
  {
   "cell_type": "code",
   "execution_count": 25,
   "metadata": {},
   "outputs": [],
   "source": [
    "from pathlib import Path"
   ]
  },
  {
   "cell_type": "code",
   "execution_count": 26,
   "metadata": {},
   "outputs": [],
   "source": [
    "plot_base_path = Path(\n",
    "    \"/Users/larsankile/Library/CloudStorage/Dropbox/Apps/Overleaf/[CoRL 24] Robust Assembly from RL\"\n",
    ")"
   ]
  },
  {
   "cell_type": "markdown",
   "metadata": {},
   "source": [
    "# Analyze Distillation Scaling"
   ]
  },
  {
   "cell_type": "code",
   "execution_count": 1,
   "metadata": {},
   "outputs": [],
   "source": [
    "import pandas as pd"
   ]
  },
  {
   "cell_type": "code",
   "execution_count": 11,
   "metadata": {},
   "outputs": [
    {
     "data": {
      "text/html": [
       "<div>\n",
       "<style scoped>\n",
       "    .dataframe tbody tr th:only-of-type {\n",
       "        vertical-align: middle;\n",
       "    }\n",
       "\n",
       "    .dataframe tbody tr th {\n",
       "        vertical-align: top;\n",
       "    }\n",
       "\n",
       "    .dataframe thead th {\n",
       "        text-align: right;\n",
       "    }\n",
       "</style>\n",
       "<table border=\"1\" class=\"dataframe\">\n",
       "  <thead>\n",
       "    <tr style=\"text-align: right;\">\n",
       "      <th></th>\n",
       "      <th>Name</th>\n",
       "      <th>best_success_rate</th>\n",
       "      <th>success_rate</th>\n",
       "    </tr>\n",
       "  </thead>\n",
       "  <tbody>\n",
       "    <tr>\n",
       "      <th>0</th>\n",
       "      <td>state-rl-10050-19</td>\n",
       "      <td>0.742188</td>\n",
       "      <td>0.742188</td>\n",
       "    </tr>\n",
       "    <tr>\n",
       "      <th>1</th>\n",
       "      <td>state-rl-1050-17</td>\n",
       "      <td>0.703125</td>\n",
       "      <td>0.648438</td>\n",
       "    </tr>\n",
       "    <tr>\n",
       "      <th>2</th>\n",
       "      <td>rl-1050-7</td>\n",
       "      <td>0.640625</td>\n",
       "      <td>0.609375</td>\n",
       "    </tr>\n",
       "    <tr>\n",
       "      <th>3</th>\n",
       "      <td>rl-1050-15</td>\n",
       "      <td>0.656250</td>\n",
       "      <td>0.625000</td>\n",
       "    </tr>\n",
       "    <tr>\n",
       "      <th>4</th>\n",
       "      <td>bc-1050-8</td>\n",
       "      <td>0.226562</td>\n",
       "      <td>0.140625</td>\n",
       "    </tr>\n",
       "  </tbody>\n",
       "</table>\n",
       "</div>"
      ],
      "text/plain": [
       "                Name  best_success_rate  success_rate\n",
       "0  state-rl-10050-19           0.742188      0.742188\n",
       "1   state-rl-1050-17           0.703125      0.648438\n",
       "2          rl-1050-7           0.640625      0.609375\n",
       "3         rl-1050-15           0.656250      0.625000\n",
       "4          bc-1050-8           0.226562      0.140625"
      ]
     },
     "execution_count": 11,
     "metadata": {},
     "output_type": "execute_result"
    }
   ],
   "source": [
    "df = pd.read_csv(\n",
    "    \"/data/scratch/ankile/robust-rearrangement/notebooks/data/scaling_low_1.csv\"\n",
    ")\n",
    "\n",
    "\n",
    "df = df[[\"Name\", \"best_success_rate\", \"success_rate\"]]\n",
    "\n",
    "df.head()"
   ]
  },
  {
   "cell_type": "code",
   "execution_count": 14,
   "metadata": {},
   "outputs": [
    {
     "data": {
      "text/html": [
       "<div>\n",
       "<style scoped>\n",
       "    .dataframe tbody tr th:only-of-type {\n",
       "        vertical-align: middle;\n",
       "    }\n",
       "\n",
       "    .dataframe tbody tr th {\n",
       "        vertical-align: top;\n",
       "    }\n",
       "\n",
       "    .dataframe thead th {\n",
       "        text-align: right;\n",
       "    }\n",
       "</style>\n",
       "<table border=\"1\" class=\"dataframe\">\n",
       "  <thead>\n",
       "    <tr style=\"text-align: right;\">\n",
       "      <th></th>\n",
       "      <th>Name</th>\n",
       "      <th>best_success_rate</th>\n",
       "      <th>success_rate</th>\n",
       "      <th>group_name</th>\n",
       "    </tr>\n",
       "  </thead>\n",
       "  <tbody>\n",
       "    <tr>\n",
       "      <th>0</th>\n",
       "      <td>state-rl-10050-19</td>\n",
       "      <td>0.742188</td>\n",
       "      <td>0.742188</td>\n",
       "      <td>state-rl-10050</td>\n",
       "    </tr>\n",
       "    <tr>\n",
       "      <th>1</th>\n",
       "      <td>state-rl-1050-17</td>\n",
       "      <td>0.703125</td>\n",
       "      <td>0.648438</td>\n",
       "      <td>state-rl-1050</td>\n",
       "    </tr>\n",
       "    <tr>\n",
       "      <th>2</th>\n",
       "      <td>rl-1050-7</td>\n",
       "      <td>0.640625</td>\n",
       "      <td>0.609375</td>\n",
       "      <td>rl-1050</td>\n",
       "    </tr>\n",
       "    <tr>\n",
       "      <th>3</th>\n",
       "      <td>rl-1050-15</td>\n",
       "      <td>0.656250</td>\n",
       "      <td>0.625000</td>\n",
       "      <td>rl-1050</td>\n",
       "    </tr>\n",
       "    <tr>\n",
       "      <th>4</th>\n",
       "      <td>bc-1050-8</td>\n",
       "      <td>0.226562</td>\n",
       "      <td>0.140625</td>\n",
       "      <td>bc-1050</td>\n",
       "    </tr>\n",
       "  </tbody>\n",
       "</table>\n",
       "</div>"
      ],
      "text/plain": [
       "                Name  best_success_rate  success_rate      group_name\n",
       "0  state-rl-10050-19           0.742188      0.742188  state-rl-10050\n",
       "1   state-rl-1050-17           0.703125      0.648438   state-rl-1050\n",
       "2          rl-1050-7           0.640625      0.609375         rl-1050\n",
       "3         rl-1050-15           0.656250      0.625000         rl-1050\n",
       "4          bc-1050-8           0.226562      0.140625         bc-1050"
      ]
     },
     "execution_count": 14,
     "metadata": {},
     "output_type": "execute_result"
    }
   ],
   "source": [
    "df = df.assign(group_name=df.Name.str.split(\"-\").str[:-1].str.join(\"-\"))\n",
    "\n",
    "df.head()"
   ]
  },
  {
   "cell_type": "code",
   "execution_count": 16,
   "metadata": {},
   "outputs": [
    {
     "data": {
      "text/html": [
       "<div>\n",
       "<style scoped>\n",
       "    .dataframe tbody tr th:only-of-type {\n",
       "        vertical-align: middle;\n",
       "    }\n",
       "\n",
       "    .dataframe tbody tr th {\n",
       "        vertical-align: top;\n",
       "    }\n",
       "\n",
       "    .dataframe thead th {\n",
       "        text-align: right;\n",
       "    }\n",
       "</style>\n",
       "<table border=\"1\" class=\"dataframe\">\n",
       "  <thead>\n",
       "    <tr style=\"text-align: right;\">\n",
       "      <th></th>\n",
       "      <th>group_name</th>\n",
       "      <th>best_success_rate</th>\n",
       "      <th>success_rate</th>\n",
       "    </tr>\n",
       "  </thead>\n",
       "  <tbody>\n",
       "    <tr>\n",
       "      <th>0</th>\n",
       "      <td>bc-1050</td>\n",
       "      <td>0.273438</td>\n",
       "      <td>0.156250</td>\n",
       "    </tr>\n",
       "    <tr>\n",
       "      <th>1</th>\n",
       "      <td>human-50</td>\n",
       "      <td>0.496094</td>\n",
       "      <td>0.339844</td>\n",
       "    </tr>\n",
       "    <tr>\n",
       "      <th>2</th>\n",
       "      <td>rl-1050</td>\n",
       "      <td>0.648438</td>\n",
       "      <td>0.617188</td>\n",
       "    </tr>\n",
       "    <tr>\n",
       "      <th>3</th>\n",
       "      <td>rl-300</td>\n",
       "      <td>0.691406</td>\n",
       "      <td>0.589844</td>\n",
       "    </tr>\n",
       "    <tr>\n",
       "      <th>4</th>\n",
       "      <td>rl-550</td>\n",
       "      <td>0.644531</td>\n",
       "      <td>0.542969</td>\n",
       "    </tr>\n",
       "    <tr>\n",
       "      <th>5</th>\n",
       "      <td>state-rl-10050</td>\n",
       "      <td>0.742188</td>\n",
       "      <td>0.742188</td>\n",
       "    </tr>\n",
       "    <tr>\n",
       "      <th>6</th>\n",
       "      <td>state-rl-1050</td>\n",
       "      <td>0.703125</td>\n",
       "      <td>0.648438</td>\n",
       "    </tr>\n",
       "  </tbody>\n",
       "</table>\n",
       "</div>"
      ],
      "text/plain": [
       "       group_name  best_success_rate  success_rate\n",
       "0         bc-1050           0.273438      0.156250\n",
       "1        human-50           0.496094      0.339844\n",
       "2         rl-1050           0.648438      0.617188\n",
       "3          rl-300           0.691406      0.589844\n",
       "4          rl-550           0.644531      0.542969\n",
       "5  state-rl-10050           0.742188      0.742188\n",
       "6   state-rl-1050           0.703125      0.648438"
      ]
     },
     "execution_count": 16,
     "metadata": {},
     "output_type": "execute_result"
    }
   ],
   "source": [
    "df = df.groupby(\"group_name\").mean().reset_index()\n",
    "\n",
    "df"
   ]
  },
  {
   "cell_type": "code",
   "execution_count": null,
   "metadata": {},
   "outputs": [],
   "source": []
  },
  {
   "cell_type": "markdown",
   "metadata": {},
   "source": [
    "# Results 4.2 -- Scaling and BC/RL Distillation\n",
    "\n",
    "## Scaling"
   ]
  },
  {
   "cell_type": "code",
   "execution_count": 1,
   "metadata": {},
   "outputs": [],
   "source": [
    "import wandb\n",
    "import matplotlib.pyplot as plt"
   ]
  },
  {
   "cell_type": "code",
   "execution_count": 2,
   "metadata": {},
   "outputs": [],
   "source": [
    "api = wandb.Api(overrides={\"entity\": \"robust-assembly\"})"
   ]
  },
  {
   "cell_type": "code",
   "execution_count": 3,
   "metadata": {},
   "outputs": [],
   "source": [
    "run_ids = dict(\n",
    "    state_1k=\"45i0dikc\",\n",
    "    state_10k=\"mm93m3qx\",\n",
    "    state_50k=\"8joapjpv\",\n",
    "    state_100k=\"wi6t4u51\",\n",
    ")\n",
    "\n",
    "project = \"ol-vision-scaling-low-1\""
   ]
  },
  {
   "cell_type": "code",
   "execution_count": 4,
   "metadata": {},
   "outputs": [],
   "source": [
    "# Get a project\n",
    "runs = {name: api.run(f\"{project}/{run_id}\") for name, run_id in run_ids.items()}"
   ]
  },
  {
   "cell_type": "code",
   "execution_count": 5,
   "metadata": {},
   "outputs": [
    {
     "data": {
      "text/plain": [
       "{'state_1k': 0.703125,\n",
       " 'state_10k': 0.765625,\n",
       " 'state_50k': 0.578125,\n",
       " 'state_100k': 0.484375}"
      ]
     },
     "execution_count": 5,
     "metadata": {},
     "output_type": "execute_result"
    }
   ],
   "source": [
    "best_success_rates = {\n",
    "    name: run.summary[\"best_success_rate\"] for name, run in runs.items()\n",
    "}\n",
    "\n",
    "best_success_rates"
   ]
  },
  {
   "cell_type": "code",
   "execution_count": 6,
   "metadata": {},
   "outputs": [],
   "source": [
    "bc_success_rate = 0.54\n",
    "rl_success_rate = 0.95"
   ]
  },
  {
   "cell_type": "code",
   "execution_count": 54,
   "metadata": {},
   "outputs": [
    {
     "data": {
      "image/png": "[encoded data removed]",
      "text/plain": [
       "<Figure size 500x500 with 1 Axes>"
      ]
     },
     "metadata": {},
     "output_type": "display_data"
    }
   ],
   "source": [
    "# Plot the state-based success rates as a line plot with the bc and rl success rates as horizontal lines\n",
    "fig, ax = plt.subplots(figsize=(5, 5))\n",
    "\n",
    "names, rates = zip(*best_success_rates.items())\n",
    "\n",
    "# names = [\"BC\"] + list(names)\n",
    "n_demos = [50, 1_000, 10_000, 50_000, 100_000][:-2]\n",
    "rates = [bc_success_rate] + list(rates)[:-2]\n",
    "\n",
    "\n",
    "ax.set_xlabel(\"Number of Demonstrations\", fontsize=14)\n",
    "ax.set_ylabel(\"Success Rate\", fontsize=14)\n",
    "\n",
    "# Set the x-axis to a log scale\n",
    "ax.set_xscale(\"log\")\n",
    "ax.set_ylim(0, 1)\n",
    "\n",
    "ax.axhline(rl_success_rate, color=\"#FFB800\", linestyle=\"--\", label=\"RL Success Rate\")\n",
    "ax.axhline(bc_success_rate, color=\"#FF8F50\", linestyle=\"--\", label=\"BC Success Rate\")\n",
    "ax.plot(n_demos, rates, marker=\"o\", color=\"#C06F73\", label=\"State-based Success Rate\")\n",
    "\n",
    "ax.legend(fontsize=12, frameon=False)\n",
    "\n",
    "fig.tight_layout()\n",
    "\n",
    "# Save the plot\n",
    "plt.savefig(\"state_distillation_scaling.pdf\")"
   ]
  },
  {
   "cell_type": "markdown",
   "metadata": {},
   "source": [
    "## BC/RL Distillation"
   ]
  },
  {
   "cell_type": "code",
   "execution_count": 28,
   "metadata": {},
   "outputs": [
    {
     "data": {
      "image/png": "[encoded data removed]",
      "text/plain": [
       "<Figure size 400x500 with 1 Axes>"
      ]
     },
     "metadata": {},
     "output_type": "display_data"
    }
   ],
   "source": [
    "import matplotlib.pyplot as plt\n",
    "import numpy as np\n",
    "\n",
    "# Data\n",
    "categories = [\"DP\", \"DP + residual PPO\"]\n",
    "vision_based_student = [50, 73]\n",
    "total = [53, 94]\n",
    "\n",
    "# Calculate the state values\n",
    "state_based_teacher = np.array(total) - np.array(vision_based_student)\n",
    "\n",
    "# Set the width of each bar\n",
    "bar_width = 0.75\n",
    "\n",
    "# Set the positions of the bars on the x-axis\n",
    "r = range(len(categories))\n",
    "\n",
    "# Create the stacked bar plot\n",
    "plt.figure(figsize=(4, 5))\n",
    "plt.bar(\n",
    "    r,\n",
    "    vision_based_student,\n",
    "    width=bar_width,\n",
    "    label=\"Vision-based\\nstudent\",\n",
    "    color=\"#2398DA\",\n",
    "    zorder=2,\n",
    ")\n",
    "plt.bar(\n",
    "    r,\n",
    "    state_based_teacher,\n",
    "    width=bar_width,\n",
    "    bottom=vision_based_student,\n",
    "    label=\"State-based\\nteacher\",\n",
    "    color=\"#6B529C\",\n",
    "    zorder=2,\n",
    ")\n",
    "plt.xticks(r, categories)\n",
    "\n",
    "# Add legend\n",
    "plt.legend(loc=\"upper left\", fontsize=12, frameon=False)\n",
    "\n",
    "# Add horizontal grid lines\n",
    "plt.grid(axis=\"y\", linestyle=\"--\", linewidth=0.5, zorder=1)\n",
    "\n",
    "# Set y-axis limits\n",
    "plt.ylim(0, 100)\n",
    "\n",
    "# Display the plot\n",
    "plt.tight_layout()\n",
    "plt.show()"
   ]
  },
  {
   "cell_type": "code",
   "execution_count": null,
   "metadata": {},
   "outputs": [],
   "source": []
  }
 ],
 "metadata": {
  "kernelspec": {
   "display_name": "rr",
   "language": "python",
   "name": "python3"
  },
  "language_info": {
   "codemirror_mode": {
    "name": "ipython",
    "version": 3
   },
   "file_extension": ".py",
   "mimetype": "text/x-python",
   "name": "python",
   "nbconvert_exporter": "python",
   "pygments_lexer": "ipython3",
   "version": "3.8.19"
  }
 },
 "nbformat": 4,
 "nbformat_minor": 2
}
