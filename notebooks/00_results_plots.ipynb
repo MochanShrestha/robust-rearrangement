{
  "cells": [
    {
      "cell_type": "code",
      "execution_count": 1,
      "metadata": {},
      "outputs": [],
      "source": [
        "from pathlib import Path"
      ]
    },
    {
      "cell_type": "code",
      "execution_count": 38,
      "metadata": {},
      "outputs": [],
      "source": [
        "plot_base_path = Path(\n",
        "    \"/Users/larsankile/Library/CloudStorage/Dropbox/Apps/Overleaf/[CoRL24] From Imitation to Refinement\"\n",
        ")"
      ]
    },
    {
      "cell_type": "code",
      "execution_count": 3,
      "metadata": {},
      "outputs": [],
      "source": [
        "import matplotlib.pyplot as plt\n",
        "\n",
        "plt.rcParams[\"font.family\"] = \"Times New Roman\""
      ]
    },
    {
      "cell_type": "markdown",
      "metadata": {},
      "source": [
        "# Analyze Distillation Scaling\n"
      ]
    },
    {
      "cell_type": "code",
      "execution_count": null,
      "metadata": {},
      "outputs": [],
      "source": [
        "import pandas as pd"
      ]
    },
    {
      "cell_type": "code",
      "execution_count": null,
      "metadata": {},
      "outputs": [],
      "source": [
        "df = pd.read_csv(\n",
        "    \"/data/scratch/ankile/robust-rearrangement/notebooks/data/scaling_low_1.csv\"\n",
        ")\n",
        "\n",
        "df = df[[\"Name\", \"best_success_rate\", \"success_rate\"]]\n",
        "\n",
        "df.head()"
      ]
    },
    {
      "cell_type": "code",
      "execution_count": null,
      "metadata": {},
      "outputs": [],
      "source": [
        "df = df.assign(group_name=df.Name.str.split(\"-\").str[:-1].str.join(\"-\"))\n",
        "\n",
        "df.head()"
      ]
    },
    {
      "cell_type": "code",
      "execution_count": null,
      "metadata": {},
      "outputs": [],
      "source": [
        "df = df.groupby(\"group_name\").mean().reset_index()\n",
        "\n",
        "df"
      ]
    },
    {
      "cell_type": "code",
      "execution_count": null,
      "metadata": {},
      "outputs": [],
      "source": []
    },
    {
      "cell_type": "markdown",
      "metadata": {},
      "source": [
        "# Results 4.2 -- Scaling and BC/RL Distillation\n",
        "\n",
        "## Scaling\n"
      ]
    },
    {
      "cell_type": "code",
      "execution_count": null,
      "metadata": {},
      "outputs": [],
      "source": [
        "import wandb\n",
        "import matplotlib.pyplot as plt"
      ]
    },
    {
      "cell_type": "code",
      "execution_count": null,
      "metadata": {},
      "outputs": [],
      "source": [
        "api = wandb.Api(overrides={\"entity\": \"robust-assembly\"})"
      ]
    },
    {
      "cell_type": "code",
      "execution_count": null,
      "metadata": {},
      "outputs": [],
      "source": [
        "run_ids = dict(\n",
        "    state_1k=\"45i0dikc\",\n",
        "    state_10k=\"mm93m3qx\",\n",
        "    state_50k=\"8joapjpv\",\n",
        "    state_100k=\"wi6t4u51\",\n",
        ")\n",
        "\n",
        "project = \"ol-vision-scaling-low-1\""
      ]
    },
    {
      "cell_type": "code",
      "execution_count": null,
      "metadata": {},
      "outputs": [],
      "source": [
        "# Get a project\n",
        "runs = {name: api.run(f\"{project}/{run_id}\") for name, run_id in run_ids.items()}"
      ]
    },
    {
      "cell_type": "code",
      "execution_count": null,
      "metadata": {},
      "outputs": [],
      "source": [
        "best_success_rates = {\n",
        "    name: run.summary[\"best_success_rate\"] for name, run in runs.items()\n",
        "}\n",
        "\n",
        "best_success_rates"
      ]
    },
    {
      "cell_type": "code",
      "execution_count": null,
      "metadata": {},
      "outputs": [],
      "source": [
        "bc_success_rate = 0.54\n",
        "rl_success_rate = 0.95"
      ]
    },
    {
      "cell_type": "code",
      "execution_count": null,
      "metadata": {},
      "outputs": [],
      "source": [
        "import matplotlib.pyplot as plt\n",
        "import numpy as np\n",
        "\n",
        "# Set the font family to Times New Roman\n",
        "plt.rcParams[\"font.family\"] = \"Times New Roman\"\n",
        "\n",
        "# Data\n",
        "num_demonstrations = [50, 1000, 10000]\n",
        "distilled_success_rate = [54, 70, 77]\n",
        "rl_success_rate = 95\n",
        "bc_success_rate = 54\n",
        "\n",
        "# Create the line plot\n",
        "plt.figure(figsize=(4, 3.5))\n",
        "\n",
        "plt.axhline(\n",
        "    y=rl_success_rate,\n",
        "    linestyle=\"--\",\n",
        "    linewidth=3,\n",
        "    color=\"#2398DA\",\n",
        "    label=\"RL policy success rate\",\n",
        ")\n",
        "\n",
        "plt.axhline(\n",
        "    y=bc_success_rate,\n",
        "    linestyle=\"--\",\n",
        "    linewidth=3,\n",
        "    color=\"#6B529C\",\n",
        "    label=\"BC policy success rate\",\n",
        ")\n",
        "\n",
        "plt.plot(\n",
        "    num_demonstrations,\n",
        "    distilled_success_rate,\n",
        "    marker=\"o\",\n",
        "    linestyle=\"-\",\n",
        "    linewidth=3,\n",
        "    markersize=8,\n",
        "    label=\"Distilled policy success rate\",\n",
        "    color=\"#E34A6F\",\n",
        ")\n",
        "# Add labels and title\n",
        "plt.xlabel(\"Number of Demonstrations\", fontsize=16)\n",
        "\n",
        "# Set x-axis to logarithmic scale\n",
        "plt.xscale(\"log\")\n",
        "\n",
        "# Set x-axis tick labels as exponents of 10\n",
        "plt.xticks(\n",
        "    [10, 100, 1_000, 10_000], [\"$10^1$\", \"$10^2$\", \"$10^3$\", \"$10^4$\"], fontsize=16\n",
        ")\n",
        "\n",
        "# Add legend\n",
        "plt.legend(loc=\"lower left\", fontsize=15, frameon=False, handletextpad=0.2)\n",
        "\n",
        "# Set y-axis limits\n",
        "plt.ylim(0, 100)\n",
        "plt.xlim(40, 11_000)\n",
        "\n",
        "# Set y-ticks font size\n",
        "plt.yticks(fontsize=16)\n",
        "\n",
        "# Set y-ticks to be increments of 25\n",
        "plt.yticks(np.arange(0, 101, 25))\n",
        "\n",
        "# Add grid lines\n",
        "plt.grid(axis=\"y\", linestyle=\"--\", linewidth=0.5, zorder=1)\n",
        "\n",
        "# Remove the border around the plot\n",
        "plt.box(False)\n",
        "\n",
        "# Adjust the layout\n",
        "plt.tight_layout()\n",
        "\n",
        "# Save the figure as a PDF\n",
        "plt.savefig(plot_base_path / \"fig\" / \"scaling.pdf\", format=\"pdf\", dpi=300)\n",
        "\n",
        "# Display the plot\n",
        "plt.show()"
      ]
    },
    {
      "cell_type": "markdown",
      "metadata": {},
      "source": [
        "## BC/RL Distillation\n"
      ]
    },
    {
      "cell_type": "code",
      "execution_count": null,
      "metadata": {},
      "outputs": [],
      "source": [
        "import matplotlib.pyplot as plt\n",
        "import numpy as np\n",
        "\n",
        "# Data\n",
        "categories = [\"DP\", \"DP + residual PPO\"]\n",
        "vision_based_student = [50, 73]\n",
        "total = [53, 95]\n",
        "\n",
        "# Calculate the state values\n",
        "state_based_teacher = np.array(total) - np.array(vision_based_student)\n",
        "\n",
        "# Set the width of each bar\n",
        "bar_width = 0.75\n",
        "\n",
        "# Set the positions of the bars on the x-axis\n",
        "r = range(len(categories))\n",
        "\n",
        "# Create the stacked bar plot\n",
        "plt.figure(figsize=(4, 5.5))\n",
        "plt.bar(\n",
        "    r,\n",
        "    state_based_teacher,\n",
        "    width=bar_width,\n",
        "    bottom=vision_based_student,\n",
        "    label=\"State-based teacher\",\n",
        "    color=\"#6B529C\",\n",
        "    zorder=2,\n",
        ")\n",
        "plt.bar(\n",
        "    r,\n",
        "    vision_based_student,\n",
        "    width=bar_width,\n",
        "    label=\"Vision-based student\",\n",
        "    color=\"#2398DA\",\n",
        "    zorder=2,\n",
        ")\n",
        "plt.xticks(r, categories, fontsize=16)\n",
        "\n",
        "# Add legend in upper left\n",
        "plt.legend(\n",
        "    loc=\"upper left\",\n",
        "    fontsize=14,\n",
        "    frameon=False,\n",
        "    bbox_to_anchor=(-0.18, 0.98),\n",
        "    handletextpad=0.2,\n",
        ")\n",
        "\n",
        "plt.box(False)\n",
        "\n",
        "\n",
        "# Add horizontal grid lines\n",
        "plt.grid(axis=\"y\", linestyle=\"--\", linewidth=0.5, zorder=1)\n",
        "\n",
        "# Set y-axis limits\n",
        "plt.ylim(0, 100)\n",
        "\n",
        "# Increase the size of the y-axis ticks\n",
        "plt.yticks(fontsize=16)\n",
        "\n",
        "# Save figure to base path + distillation.pdf\n",
        "plt.savefig(\n",
        "    plot_base_path / \"fig\" / \"distillation.pdf\",\n",
        "    format=\"pdf\",\n",
        "    dpi=300,\n",
        "    bbox_inches=\"tight\",\n",
        ")\n",
        "\n",
        "# Display the plot\n",
        "plt.tight_layout()\n",
        "plt.show()"
      ]
    },
    {
      "cell_type": "markdown",
      "metadata": {},
      "source": [
        "# Sankey diagram over real-world data\n"
      ]
    },
    {
      "cell_type": "code",
      "execution_count": 4,
      "metadata": {},
      "outputs": [
        {
          "name": "stdout",
          "output_type": "stream",
          "text": [
            "/opt/homebrew/opt/python@3.11/bin/python3.11\n"
          ]
        }
      ],
      "source": [
        "import sys\n",
        "\n",
        "print(sys.executable)"
      ]
    },
    {
      "cell_type": "code",
      "execution_count": 97,
      "metadata": {},
      "outputs": [
        {
          "data": {
            "application/vnd.plotly.v1+json": {
              "config": {
                "plotlyServerURL": "https://plot.ly"
              },
              "data": [
                {
                  "link": {
                    "label": [
                      "10",
                      "0",
                      "9",
                      "1",
                      "6",
                      "3",
                      "5",
                      "1"
                    ],
                    "source": [
                      0,
                      0,
                      1,
                      1,
                      2,
                      2,
                      3,
                      3
                    ],
                    "target": [
                      1,
                      5,
                      2,
                      5,
                      3,
                      5,
                      4,
                      5
                    ],
                    "value": [
                      10,
                      0,
                      9,
                      1,
                      6,
                      3,
                      5,
                      1
                    ]
                  },
                  "node": {
                    "color": [
                      "#F4F269",
                      "#CEE26B",
                      "#A8D26D",
                      "#82C26E",
                      "#5CB270",
                      "#A41623"
                    ],
                    "label": [
                      "Corner (10 / 10)",
                      "Grasp (9 / 10)",
                      "Insert (6 / 10)",
                      "Screw (5 / 10)",
                      "Success",
                      "Failure"
                    ],
                    "line": {
                      "color": "black",
                      "width": 0.5
                    },
                    "pad": 15,
                    "thickness": 20,
                    "x": [
                      0,
                      0.25,
                      0.45,
                      0.65,
                      1
                    ],
                    "y": [
                      0,
                      0.5,
                      0.4,
                      0.25,
                      0
                    ]
                  },
                  "textfont": {
                    "family": "Times New Roman",
                    "size": 30
                  },
                  "type": "sankey"
                }
              ],
              "layout": {
                "height": 400,
                "margin": {
                  "b": 10,
                  "l": 0,
                  "r": 0,
                  "t": 20
                },
                "template": {
                  "data": {
                    "bar": [
                      {
                        "error_x": {
                          "color": "#2a3f5f"
                        },
                        "error_y": {
                          "color": "#2a3f5f"
                        },
                        "marker": {
                          "line": {
                            "color": "#E5ECF6",
                            "width": 0.5
                          },
                          "pattern": {
                            "fillmode": "overlay",
                            "size": 10,
                            "solidity": 0.2
                          }
                        },
                        "type": "bar"
                      }
                    ],
                    "barpolar": [
                      {
                        "marker": {
                          "line": {
                            "color": "#E5ECF6",
                            "width": 0.5
                          },
                          "pattern": {
                            "fillmode": "overlay",
                            "size": 10,
                            "solidity": 0.2
                          }
                        },
                        "type": "barpolar"
                      }
                    ],
                    "carpet": [
                      {
                        "aaxis": {
                          "endlinecolor": "#2a3f5f",
                          "gridcolor": "white",
                          "linecolor": "white",
                          "minorgridcolor": "white",
                          "startlinecolor": "#2a3f5f"
                        },
                        "baxis": {
                          "endlinecolor": "#2a3f5f",
                          "gridcolor": "white",
                          "linecolor": "white",
                          "minorgridcolor": "white",
                          "startlinecolor": "#2a3f5f"
                        },
                        "type": "carpet"
                      }
                    ],
                    "choropleth": [
                      {
                        "colorbar": {
                          "outlinewidth": 0,
                          "ticks": ""
                        },
                        "type": "choropleth"
                      }
                    ],
                    "contour": [
                      {
                        "colorbar": {
                          "outlinewidth": 0,
                          "ticks": ""
                        },
                        "colorscale": [
                          [
                            0,
                            "#0d0887"
                          ],
                          [
                            0.1111111111111111,
                            "#46039f"
                          ],
                          [
                            0.2222222222222222,
                            "#7201a8"
                          ],
                          [
                            0.3333333333333333,
                            "#9c179e"
                          ],
                          [
                            0.4444444444444444,
                            "#bd3786"
                          ],
                          [
                            0.5555555555555556,
                            "#d8576b"
                          ],
                          [
                            0.6666666666666666,
                            "#ed7953"
                          ],
                          [
                            0.7777777777777778,
                            "#fb9f3a"
                          ],
                          [
                            0.8888888888888888,
                            "#fdca26"
                          ],
                          [
                            1,
                            "#f0f921"
                          ]
                        ],
                        "type": "contour"
                      }
                    ],
                    "contourcarpet": [
                      {
                        "colorbar": {
                          "outlinewidth": 0,
                          "ticks": ""
                        },
                        "type": "contourcarpet"
                      }
                    ],
                    "heatmap": [
                      {
                        "colorbar": {
                          "outlinewidth": 0,
                          "ticks": ""
                        },
                        "colorscale": [
                          [
                            0,
                            "#0d0887"
                          ],
                          [
                            0.1111111111111111,
                            "#46039f"
                          ],
                          [
                            0.2222222222222222,
                            "#7201a8"
                          ],
                          [
                            0.3333333333333333,
                            "#9c179e"
                          ],
                          [
                            0.4444444444444444,
                            "#bd3786"
                          ],
                          [
                            0.5555555555555556,
                            "#d8576b"
                          ],
                          [
                            0.6666666666666666,
                            "#ed7953"
                          ],
                          [
                            0.7777777777777778,
                            "#fb9f3a"
                          ],
                          [
                            0.8888888888888888,
                            "#fdca26"
                          ],
                          [
                            1,
                            "#f0f921"
                          ]
                        ],
                        "type": "heatmap"
                      }
                    ],
                    "heatmapgl": [
                      {
                        "colorbar": {
                          "outlinewidth": 0,
                          "ticks": ""
                        },
                        "colorscale": [
                          [
                            0,
                            "#0d0887"
                          ],
                          [
                            0.1111111111111111,
                            "#46039f"
                          ],
                          [
                            0.2222222222222222,
                            "#7201a8"
                          ],
                          [
                            0.3333333333333333,
                            "#9c179e"
                          ],
                          [
                            0.4444444444444444,
                            "#bd3786"
                          ],
                          [
                            0.5555555555555556,
                            "#d8576b"
                          ],
                          [
                            0.6666666666666666,
                            "#ed7953"
                          ],
                          [
                            0.7777777777777778,
                            "#fb9f3a"
                          ],
                          [
                            0.8888888888888888,
                            "#fdca26"
                          ],
                          [
                            1,
                            "#f0f921"
                          ]
                        ],
                        "type": "heatmapgl"
                      }
                    ],
                    "histogram": [
                      {
                        "marker": {
                          "pattern": {
                            "fillmode": "overlay",
                            "size": 10,
                            "solidity": 0.2
                          }
                        },
                        "type": "histogram"
                      }
                    ],
                    "histogram2d": [
                      {
                        "colorbar": {
                          "outlinewidth": 0,
                          "ticks": ""
                        },
                        "colorscale": [
                          [
                            0,
                            "#0d0887"
                          ],
                          [
                            0.1111111111111111,
                            "#46039f"
                          ],
                          [
                            0.2222222222222222,
                            "#7201a8"
                          ],
                          [
                            0.3333333333333333,
                            "#9c179e"
                          ],
                          [
                            0.4444444444444444,
                            "#bd3786"
                          ],
                          [
                            0.5555555555555556,
                            "#d8576b"
                          ],
                          [
                            0.6666666666666666,
                            "#ed7953"
                          ],
                          [
                            0.7777777777777778,
                            "#fb9f3a"
                          ],
                          [
                            0.8888888888888888,
                            "#fdca26"
                          ],
                          [
                            1,
                            "#f0f921"
                          ]
                        ],
                        "type": "histogram2d"
                      }
                    ],
                    "histogram2dcontour": [
                      {
                        "colorbar": {
                          "outlinewidth": 0,
                          "ticks": ""
                        },
                        "colorscale": [
                          [
                            0,
                            "#0d0887"
                          ],
                          [
                            0.1111111111111111,
                            "#46039f"
                          ],
                          [
                            0.2222222222222222,
                            "#7201a8"
                          ],
                          [
                            0.3333333333333333,
                            "#9c179e"
                          ],
                          [
                            0.4444444444444444,
                            "#bd3786"
                          ],
                          [
                            0.5555555555555556,
                            "#d8576b"
                          ],
                          [
                            0.6666666666666666,
                            "#ed7953"
                          ],
                          [
                            0.7777777777777778,
                            "#fb9f3a"
                          ],
                          [
                            0.8888888888888888,
                            "#fdca26"
                          ],
                          [
                            1,
                            "#f0f921"
                          ]
                        ],
                        "type": "histogram2dcontour"
                      }
                    ],
                    "mesh3d": [
                      {
                        "colorbar": {
                          "outlinewidth": 0,
                          "ticks": ""
                        },
                        "type": "mesh3d"
                      }
                    ],
                    "parcoords": [
                      {
                        "line": {
                          "colorbar": {
                            "outlinewidth": 0,
                            "ticks": ""
                          }
                        },
                        "type": "parcoords"
                      }
                    ],
                    "pie": [
                      {
                        "automargin": true,
                        "type": "pie"
                      }
                    ],
                    "scatter": [
                      {
                        "fillpattern": {
                          "fillmode": "overlay",
                          "size": 10,
                          "solidity": 0.2
                        },
                        "type": "scatter"
                      }
                    ],
                    "scatter3d": [
                      {
                        "line": {
                          "colorbar": {
                            "outlinewidth": 0,
                            "ticks": ""
                          }
                        },
                        "marker": {
                          "colorbar": {
                            "outlinewidth": 0,
                            "ticks": ""
                          }
                        },
                        "type": "scatter3d"
                      }
                    ],
                    "scattercarpet": [
                      {
                        "marker": {
                          "colorbar": {
                            "outlinewidth": 0,
                            "ticks": ""
                          }
                        },
                        "type": "scattercarpet"
                      }
                    ],
                    "scattergeo": [
                      {
                        "marker": {
                          "colorbar": {
                            "outlinewidth": 0,
                            "ticks": ""
                          }
                        },
                        "type": "scattergeo"
                      }
                    ],
                    "scattergl": [
                      {
                        "marker": {
                          "colorbar": {
                            "outlinewidth": 0,
                            "ticks": ""
                          }
                        },
                        "type": "scattergl"
                      }
                    ],
                    "scattermapbox": [
                      {
                        "marker": {
                          "colorbar": {
                            "outlinewidth": 0,
                            "ticks": ""
                          }
                        },
                        "type": "scattermapbox"
                      }
                    ],
                    "scatterpolar": [
                      {
                        "marker": {
                          "colorbar": {
                            "outlinewidth": 0,
                            "ticks": ""
                          }
                        },
                        "type": "scatterpolar"
                      }
                    ],
                    "scatterpolargl": [
                      {
                        "marker": {
                          "colorbar": {
                            "outlinewidth": 0,
                            "ticks": ""
                          }
                        },
                        "type": "scatterpolargl"
                      }
                    ],
                    "scatterternary": [
                      {
                        "marker": {
                          "colorbar": {
                            "outlinewidth": 0,
                            "ticks": ""
                          }
                        },
                        "type": "scatterternary"
                      }
                    ],
                    "surface": [
                      {
                        "colorbar": {
                          "outlinewidth": 0,
                          "ticks": ""
                        },
                        "colorscale": [
                          [
                            0,
                            "#0d0887"
                          ],
                          [
                            0.1111111111111111,
                            "#46039f"
                          ],
                          [
                            0.2222222222222222,
                            "#7201a8"
                          ],
                          [
                            0.3333333333333333,
                            "#9c179e"
                          ],
                          [
                            0.4444444444444444,
                            "#bd3786"
                          ],
                          [
                            0.5555555555555556,
                            "#d8576b"
                          ],
                          [
                            0.6666666666666666,
                            "#ed7953"
                          ],
                          [
                            0.7777777777777778,
                            "#fb9f3a"
                          ],
                          [
                            0.8888888888888888,
                            "#fdca26"
                          ],
                          [
                            1,
                            "#f0f921"
                          ]
                        ],
                        "type": "surface"
                      }
                    ],
                    "table": [
                      {
                        "cells": {
                          "fill": {
                            "color": "#EBF0F8"
                          },
                          "line": {
                            "color": "white"
                          }
                        },
                        "header": {
                          "fill": {
                            "color": "#C8D4E3"
                          },
                          "line": {
                            "color": "white"
                          }
                        },
                        "type": "table"
                      }
                    ]
                  },
                  "layout": {
                    "annotationdefaults": {
                      "arrowcolor": "#2a3f5f",
                      "arrowhead": 0,
                      "arrowwidth": 1
                    },
                    "autotypenumbers": "strict",
                    "coloraxis": {
                      "colorbar": {
                        "outlinewidth": 0,
                        "ticks": ""
                      }
                    },
                    "colorscale": {
                      "diverging": [
                        [
                          0,
                          "#8e0152"
                        ],
                        [
                          0.1,
                          "#c51b7d"
                        ],
                        [
                          0.2,
                          "#de77ae"
                        ],
                        [
                          0.3,
                          "#f1b6da"
                        ],
                        [
                          0.4,
                          "#fde0ef"
                        ],
                        [
                          0.5,
                          "#f7f7f7"
                        ],
                        [
                          0.6,
                          "#e6f5d0"
                        ],
                        [
                          0.7,
                          "#b8e186"
                        ],
                        [
                          0.8,
                          "#7fbc41"
                        ],
                        [
                          0.9,
                          "#4d9221"
                        ],
                        [
                          1,
                          "#276419"
                        ]
                      ],
                      "sequential": [
                        [
                          0,
                          "#0d0887"
                        ],
                        [
                          0.1111111111111111,
                          "#46039f"
                        ],
                        [
                          0.2222222222222222,
                          "#7201a8"
                        ],
                        [
                          0.3333333333333333,
                          "#9c179e"
                        ],
                        [
                          0.4444444444444444,
                          "#bd3786"
                        ],
                        [
                          0.5555555555555556,
                          "#d8576b"
                        ],
                        [
                          0.6666666666666666,
                          "#ed7953"
                        ],
                        [
                          0.7777777777777778,
                          "#fb9f3a"
                        ],
                        [
                          0.8888888888888888,
                          "#fdca26"
                        ],
                        [
                          1,
                          "#f0f921"
                        ]
                      ],
                      "sequentialminus": [
                        [
                          0,
                          "#0d0887"
                        ],
                        [
                          0.1111111111111111,
                          "#46039f"
                        ],
                        [
                          0.2222222222222222,
                          "#7201a8"
                        ],
                        [
                          0.3333333333333333,
                          "#9c179e"
                        ],
                        [
                          0.4444444444444444,
                          "#bd3786"
                        ],
                        [
                          0.5555555555555556,
                          "#d8576b"
                        ],
                        [
                          0.6666666666666666,
                          "#ed7953"
                        ],
                        [
                          0.7777777777777778,
                          "#fb9f3a"
                        ],
                        [
                          0.8888888888888888,
                          "#fdca26"
                        ],
                        [
                          1,
                          "#f0f921"
                        ]
                      ]
                    },
                    "colorway": [
                      "#636efa",
                      "#EF553B",
                      "#00cc96",
                      "#ab63fa",
                      "#FFA15A",
                      "#19d3f3",
                      "#FF6692",
                      "#B6E880",
                      "#FF97FF",
                      "#FECB52"
                    ],
                    "font": {
                      "color": "#2a3f5f"
                    },
                    "geo": {
                      "bgcolor": "white",
                      "lakecolor": "white",
                      "landcolor": "#E5ECF6",
                      "showlakes": true,
                      "showland": true,
                      "subunitcolor": "white"
                    },
                    "hoverlabel": {
                      "align": "left"
                    },
                    "hovermode": "closest",
                    "mapbox": {
                      "style": "light"
                    },
                    "paper_bgcolor": "white",
                    "plot_bgcolor": "#E5ECF6",
                    "polar": {
                      "angularaxis": {
                        "gridcolor": "white",
                        "linecolor": "white",
                        "ticks": ""
                      },
                      "bgcolor": "#E5ECF6",
                      "radialaxis": {
                        "gridcolor": "white",
                        "linecolor": "white",
                        "ticks": ""
                      }
                    },
                    "scene": {
                      "xaxis": {
                        "backgroundcolor": "#E5ECF6",
                        "gridcolor": "white",
                        "gridwidth": 2,
                        "linecolor": "white",
                        "showbackground": true,
                        "ticks": "",
                        "zerolinecolor": "white"
                      },
                      "yaxis": {
                        "backgroundcolor": "#E5ECF6",
                        "gridcolor": "white",
                        "gridwidth": 2,
                        "linecolor": "white",
                        "showbackground": true,
                        "ticks": "",
                        "zerolinecolor": "white"
                      },
                      "zaxis": {
                        "backgroundcolor": "#E5ECF6",
                        "gridcolor": "white",
                        "gridwidth": 2,
                        "linecolor": "white",
                        "showbackground": true,
                        "ticks": "",
                        "zerolinecolor": "white"
                      }
                    },
                    "shapedefaults": {
                      "line": {
                        "color": "#2a3f5f"
                      }
                    },
                    "ternary": {
                      "aaxis": {
                        "gridcolor": "white",
                        "linecolor": "white",
                        "ticks": ""
                      },
                      "baxis": {
                        "gridcolor": "white",
                        "linecolor": "white",
                        "ticks": ""
                      },
                      "bgcolor": "#E5ECF6",
                      "caxis": {
                        "gridcolor": "white",
                        "linecolor": "white",
                        "ticks": ""
                      }
                    },
                    "title": {
                      "x": 0.05
                    },
                    "xaxis": {
                      "automargin": true,
                      "gridcolor": "white",
                      "linecolor": "white",
                      "ticks": "",
                      "title": {
                        "standoff": 15
                      },
                      "zerolinecolor": "white",
                      "zerolinewidth": 2
                    },
                    "yaxis": {
                      "automargin": true,
                      "gridcolor": "white",
                      "linecolor": "white",
                      "ticks": "",
                      "title": {
                        "standoff": 15
                      },
                      "zerolinecolor": "white",
                      "zerolinewidth": 2
                    }
                  }
                },
                "width": 1000
              }
            }
          },
          "metadata": {},
          "output_type": "display_data"
        }
      ],
      "source": [
        "import plotly.graph_objects as go\n",
        "\n",
        "labels = [\n",
        "    \"Corner (10 / 10)\",\n",
        "    \"Grasp (9 / 10)\",\n",
        "    \"Insert (6 / 10)\",\n",
        "    \"Screw (5 / 10)\",\n",
        "    \"Success\",\n",
        "    \"Failure\",\n",
        "]\n",
        "\n",
        "fig = go.Figure(\n",
        "    data=[\n",
        "        go.Sankey(\n",
        "            node=dict(\n",
        "                pad=15,\n",
        "                thickness=20,\n",
        "                line=dict(color=\"black\", width=0.5),\n",
        "                label=labels,\n",
        "                color=[\n",
        "                    \"#F4F269\",\n",
        "                    \"#CEE26B\",\n",
        "                    \"#A8D26D\",\n",
        "                    \"#82C26E\",\n",
        "                    \"#5CB270\",\n",
        "                    \"#A41623\",\n",
        "                ],\n",
        "                x=[0, 0.25, 0.45, 0.65, 1],\n",
        "                y=[0, 0.5, 0.4, 0.25, 0.0],\n",
        "            ),\n",
        "            link=dict(\n",
        "                source=[0, 0, 1, 1, 2, 2, 3, 3],\n",
        "                target=[1, 5, 2, 5, 3, 5, 4, 5],\n",
        "                value=[10, 0, 9, 1, 6, 3, 5, 1],\n",
        "                label=[\"10\", \"0\", \"9\", \"1\", \"6\", \"3\", \"5\", \"1\"],\n",
        "            ),\n",
        "            textfont=dict(size=30, family=\"Times New Roman\"),\n",
        "        )\n",
        "    ]\n",
        ")\n",
        "\n",
        "# for x_coordinate, column_name in enumerate([\"column 1\", \"column 2\", \"column 3\", \"column 3\", \"column 3\", \"column 3\"]):\n",
        "#     fig.add_annotation(\n",
        "#         x=x_coordinate,\n",
        "#         y=1.05,\n",
        "#         xref=\"x\",\n",
        "#         yref=\"paper\",\n",
        "#         text=column_name,\n",
        "#         showarrow=False,\n",
        "#         font=dict(family=\"Courier New, monospace\", size=16, color=\"tomato\"),\n",
        "#         align=\"center\",\n",
        "#     )\n",
        "\n",
        "# fig.update_layout(\n",
        "#     xaxis={\n",
        "#         \"showgrid\": False,  # thin lines in the background\n",
        "#         \"zeroline\": False,  # thick line at x=0\n",
        "#         \"visible\": False,  # numbers below\n",
        "#     },\n",
        "#     yaxis={\n",
        "#         \"showgrid\": False,  # thin lines in the background\n",
        "#         \"zeroline\": False,  # thick line at x=0\n",
        "#         \"visible\": False,  # numbers below\n",
        "#     },\n",
        "#     plot_bgcolor=\"rgba(0,0,0,0)\",\n",
        "#     font_size=10,\n",
        "# )\n",
        "\n",
        "fig.update_layout(\n",
        "    margin=dict(l=0, r=0, t=20, b=10),\n",
        "    height=400,\n",
        "    width=1000,\n",
        ")\n",
        "\n",
        "fig.write_image(str(plot_base_path / \"appendix_fig\" / \"real_success_sankey.pdf\"))\n",
        "fig.show()"
      ]
    },
    {
      "cell_type": "code",
      "execution_count": null,
      "metadata": {},
      "outputs": [],
      "source": []
    }
  ],
  "metadata": {
    "kernelspec": {
      "display_name": "rr",
      "language": "python",
      "name": "python3"
    },
    "language_info": {
      "codemirror_mode": {
        "name": "ipython",
        "version": 3
      },
      "file_extension": ".py",
      "mimetype": "text/x-python",
      "name": "python",
      "nbconvert_exporter": "python",
      "pygments_lexer": "ipython3",
      "version": "3.12.0b3"
    }
  },
  "nbformat": 4,
  "nbformat_minor": 2
}
