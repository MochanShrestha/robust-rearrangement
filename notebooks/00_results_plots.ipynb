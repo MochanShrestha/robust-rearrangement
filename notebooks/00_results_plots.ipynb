{
 "cells": [
  {
   "cell_type": "code",
   "execution_count": null,
   "metadata": {},
   "outputs": [],
   "source": [
    "from pathlib import Path"
   ]
  },
  {
   "cell_type": "code",
   "execution_count": null,
   "metadata": {},
   "outputs": [],
   "source": [
    "plot_base_path = Path(\n",
    "    \"/Users/larsankile/Library/CloudStorage/Dropbox/Apps/Overleaf/[CoRL 24] Robust Assembly from RL/fig\"\n",
    ")"
   ]
  },
  {
   "cell_type": "code",
   "execution_count": null,
   "metadata": {},
   "outputs": [],
   "source": [
    "import matplotlib.pyplot as plt\n",
    "\n",
    "plt.rcParams[\"font.family\"] = \"Times New Roman\""
   ]
  },
  {
   "cell_type": "markdown",
   "metadata": {},
   "source": [
    "# Analyze Distillation Scaling\n"
   ]
  },
  {
   "cell_type": "code",
   "execution_count": null,
   "metadata": {},
   "outputs": [],
   "source": [
    "import pandas as pd"
   ]
  },
  {
   "cell_type": "code",
   "execution_count": null,
   "metadata": {},
   "outputs": [],
   "source": [
    "df = pd.read_csv(\n",
    "    \"/data/scratch/ankile/robust-rearrangement/notebooks/data/scaling_low_1.csv\"\n",
    ")\n",
    "\n",
    "\n",
    "df = df[[\"Name\", \"best_success_rate\", \"success_rate\"]]\n",
    "\n",
    "df.head()"
   ]
  },
  {
   "cell_type": "code",
   "execution_count": null,
   "metadata": {},
   "outputs": [],
   "source": [
    "df = df.assign(group_name=df.Name.str.split(\"-\").str[:-1].str.join(\"-\"))\n",
    "\n",
    "df.head()"
   ]
  },
  {
   "cell_type": "code",
   "execution_count": null,
   "metadata": {},
   "outputs": [],
   "source": [
    "df = df.groupby(\"group_name\").mean().reset_index()\n",
    "\n",
    "df"
   ]
  },
  {
   "cell_type": "code",
   "execution_count": null,
   "metadata": {},
   "outputs": [],
   "source": []
  },
  {
   "cell_type": "markdown",
   "metadata": {},
   "source": [
    "# Results 4.2 -- Scaling and BC/RL Distillation\n",
    "\n",
    "## Scaling\n"
   ]
  },
  {
   "cell_type": "code",
   "execution_count": null,
   "metadata": {},
   "outputs": [],
   "source": [
    "import wandb\n",
    "import matplotlib.pyplot as plt"
   ]
  },
  {
   "cell_type": "code",
   "execution_count": null,
   "metadata": {},
   "outputs": [],
   "source": [
    "api = wandb.Api(overrides={\"entity\": \"robust-assembly\"})"
   ]
  },
  {
   "cell_type": "code",
   "execution_count": null,
   "metadata": {},
   "outputs": [],
   "source": [
    "run_ids = dict(\n",
    "    state_1k=\"45i0dikc\",\n",
    "    state_10k=\"mm93m3qx\",\n",
    "    state_50k=\"8joapjpv\",\n",
    "    state_100k=\"wi6t4u51\",\n",
    ")\n",
    "\n",
    "project = \"ol-vision-scaling-low-1\""
   ]
  },
  {
   "cell_type": "code",
   "execution_count": null,
   "metadata": {},
   "outputs": [],
   "source": [
    "# Get a project\n",
    "runs = {name: api.run(f\"{project}/{run_id}\") for name, run_id in run_ids.items()}"
   ]
  },
  {
   "cell_type": "code",
   "execution_count": null,
   "metadata": {},
   "outputs": [],
   "source": [
    "best_success_rates = {\n",
    "    name: run.summary[\"best_success_rate\"] for name, run in runs.items()\n",
    "}\n",
    "\n",
    "best_success_rates"
   ]
  },
  {
   "cell_type": "code",
   "execution_count": null,
   "metadata": {},
   "outputs": [],
   "source": [
    "bc_success_rate = 0.54\n",
    "rl_success_rate = 0.95"
   ]
  },
  {
   "cell_type": "code",
   "execution_count": null,
   "metadata": {},
   "outputs": [],
   "source": [
    "import matplotlib.pyplot as plt\n",
    "import numpy as np\n",
    "\n",
    "# Set the font family to Times New Roman\n",
    "plt.rcParams[\"font.family\"] = \"Times New Roman\"\n",
    "\n",
    "# Data\n",
    "num_demonstrations = [50, 1000, 10000]\n",
    "distilled_success_rate = [54, 70, 77]\n",
    "rl_success_rate = 95\n",
    "bc_success_rate = 54\n",
    "\n",
    "# Create the line plot\n",
    "plt.figure(figsize=(4, 3.5))\n",
    "\n",
    "plt.axhline(\n",
    "    y=rl_success_rate,\n",
    "    linestyle=\"--\",\n",
    "    linewidth=3,\n",
    "    color=\"#2398DA\",\n",
    "    label=\"RL policy success rate\",\n",
    ")\n",
    "\n",
    "plt.axhline(\n",
    "    y=bc_success_rate,\n",
    "    linestyle=\"--\",\n",
    "    linewidth=3,\n",
    "    color=\"#6B529C\",\n",
    "    label=\"BC policy success rate\",\n",
    ")\n",
    "\n",
    "plt.plot(\n",
    "    num_demonstrations,\n",
    "    distilled_success_rate,\n",
    "    marker=\"o\",\n",
    "    linestyle=\"-\",\n",
    "    linewidth=3,\n",
    "    markersize=8,\n",
    "    label=\"Distilled policy success rate\",\n",
    "    color=\"#E34A6F\",\n",
    ")\n",
    "# Add labels and title\n",
    "plt.xlabel(\"Number of Demonstrations\", fontsize=16)\n",
    "\n",
    "# Set x-axis to logarithmic scale\n",
    "plt.xscale(\"log\")\n",
    "\n",
    "# Set x-axis tick labels as exponents of 10\n",
    "plt.xticks(\n",
    "    [10, 100, 1_000, 10_000], [\"$10^1$\", \"$10^2$\", \"$10^3$\", \"$10^4$\"], fontsize=16\n",
    ")\n",
    "\n",
    "# Add legend\n",
    "plt.legend(loc=\"lower left\", fontsize=15, frameon=False, handletextpad=0.2)\n",
    "\n",
    "# Set y-axis limits\n",
    "plt.ylim(0, 100)\n",
    "plt.xlim(40, 11_000)\n",
    "\n",
    "# Set y-ticks font size\n",
    "plt.yticks(fontsize=16)\n",
    "\n",
    "# Set y-ticks to be increments of 25\n",
    "plt.yticks(np.arange(0, 101, 25))\n",
    "\n",
    "# Add grid lines\n",
    "plt.grid(axis=\"y\", linestyle=\"--\", linewidth=0.5, zorder=1)\n",
    "\n",
    "# Remove the border around the plot\n",
    "plt.box(False)\n",
    "\n",
    "# Adjust the layout\n",
    "plt.tight_layout()\n",
    "\n",
    "# Save the figure as a PDF\n",
    "plt.savefig(plot_base_path / \"scaling.pdf\", format=\"pdf\", dpi=300)\n",
    "\n",
    "# Display the plot\n",
    "plt.show()"
   ]
  },
  {
   "cell_type": "markdown",
   "metadata": {},
   "source": [
    "## BC/RL Distillation\n"
   ]
  },
  {
   "cell_type": "code",
   "execution_count": null,
   "metadata": {},
   "outputs": [],
   "source": [
    "import matplotlib.pyplot as plt\n",
    "import numpy as np\n",
    "\n",
    "# Data\n",
    "categories = [\"DP\", \"DP + residual PPO\"]\n",
    "vision_based_student = [50, 73]\n",
    "total = [53, 95]\n",
    "\n",
    "# Calculate the state values\n",
    "state_based_teacher = np.array(total) - np.array(vision_based_student)\n",
    "\n",
    "# Set the width of each bar\n",
    "bar_width = 0.75\n",
    "\n",
    "# Set the positions of the bars on the x-axis\n",
    "r = range(len(categories))\n",
    "\n",
    "# Create the stacked bar plot\n",
    "plt.figure(figsize=(4, 5.5))\n",
    "plt.bar(\n",
    "    r,\n",
    "    state_based_teacher,\n",
    "    width=bar_width,\n",
    "    bottom=vision_based_student,\n",
    "    label=\"State-based teacher\",\n",
    "    color=\"#6B529C\",\n",
    "    zorder=2,\n",
    ")\n",
    "plt.bar(\n",
    "    r,\n",
    "    vision_based_student,\n",
    "    width=bar_width,\n",
    "    label=\"Vision-based student\",\n",
    "    color=\"#2398DA\",\n",
    "    zorder=2,\n",
    ")\n",
    "plt.xticks(r, categories, fontsize=16)\n",
    "\n",
    "# Add legend in upper left\n",
    "plt.legend(\n",
    "    loc=\"upper left\",\n",
    "    fontsize=14,\n",
    "    frameon=False,\n",
    "    bbox_to_anchor=(-0.18, 0.98),\n",
    "    handletextpad=0.2,\n",
    ")\n",
    "\n",
    "plt.box(False)\n",
    "\n",
    "\n",
    "# Add horizontal grid lines\n",
    "plt.grid(axis=\"y\", linestyle=\"--\", linewidth=0.5, zorder=1)\n",
    "\n",
    "# Set y-axis limits\n",
    "plt.ylim(0, 100)\n",
    "\n",
    "# Increase the size of the y-axis ticks\n",
    "plt.yticks(fontsize=16)\n",
    "\n",
    "# Save figure to base path + distillation.pdf\n",
    "plt.savefig(\n",
    "    plot_base_path / \"distillation.pdf\", format=\"pdf\", dpi=300, bbox_inches=\"tight\"\n",
    ")\n",
    "\n",
    "# Display the plot\n",
    "plt.tight_layout()\n",
    "plt.show()"
   ]
  },
  {
   "cell_type": "code",
   "execution_count": null,
   "metadata": {},
   "outputs": [],
   "source": [
    "str(plot_base_path / \"distillation.pdf\")"
   ]
  },
  {
   "cell_type": "code",
   "execution_count": null,
   "metadata": {},
   "outputs": [],
   "source": []
  }
 ],
 "metadata": {
  "kernelspec": {
   "display_name": "rr",
   "language": "python",
   "name": "python3"
  },
  "language_info": {
   "codemirror_mode": {
    "name": "ipython",
    "version": 3
   },
   "file_extension": ".py",
   "mimetype": "text/x-python",
   "name": "python",
   "nbconvert_exporter": "python",
   "pygments_lexer": "ipython3",
   "version": "3.11.4"
  }
 },
 "nbformat": 4,
 "nbformat_minor": 2
}
