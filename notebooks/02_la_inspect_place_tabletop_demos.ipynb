{
 "cells": [
  {
   "cell_type": "code",
   "execution_count": 1,
   "metadata": {},
   "outputs": [],
   "source": [
    "%load_ext autoreload\n",
    "%autoreload 2"
   ]
  },
  {
   "cell_type": "code",
   "execution_count": 13,
   "metadata": {},
   "outputs": [],
   "source": [
    "from pathlib import Path\n",
    "\n",
    "from torch.utils.data import DataLoader\n",
    "\n",
    "from src.dataset.dataset import FurnitureStateDataset\n",
    "\n",
    "from src.dataset.dataloader import EndlessDataloader\n",
    "\n",
    "import numpy as np\n",
    "\n",
    "from src.visualization.render_mp4 import create_mp4_jupyter"
   ]
  },
  {
   "cell_type": "code",
   "execution_count": 7,
   "metadata": {},
   "outputs": [],
   "source": [
    "def get_demo_data_loader(control_mode, batch_size, num_workers=4) -> DataLoader:\n",
    "    demo_data = FurnitureStateDataset(\n",
    "        # dataset_paths=Path(cfg.data_path[0]),\n",
    "        # pred_horizon=cfg.data.pred_horizon,\n",
    "        # obs_horizon=cfg.data.obs_horizon,\n",
    "        # action_horizon=cfg.data.action_horizon,\n",
    "        # normalizer=normalizer,\n",
    "        # data_subset=cfg.data.data_subset,\n",
    "        # control_mode=cfg.control.control_mode,\n",
    "        # first_action_idx=cfg.actor.first_action_index,\n",
    "        # pad_after=cfg.data.get(\"pad_after\", True),\n",
    "        # max_episode_count=cfg.data.get(\"max_episode_count\", None),\n",
    "        dataset_paths=Path(\n",
    "            \"/data/scratch/ankile/furniture-data/processed/sim/one_leg/teleop/low/success.zarr\"\n",
    "        ),\n",
    "        pred_horizon=1,\n",
    "        obs_horizon=1,\n",
    "        action_horizon=1,\n",
    "        normalizer=None,\n",
    "        data_subset=None,\n",
    "        control_mode=control_mode,\n",
    "        first_action_idx=0,\n",
    "        pad_after=False,\n",
    "        max_episode_count=None,\n",
    "    )\n",
    "\n",
    "    demo_data_loader = EndlessDataloader(\n",
    "        dataset=demo_data,\n",
    "        batch_size=batch_size,\n",
    "        num_workers=num_workers,\n",
    "        shuffle=True,\n",
    "        pin_memory=True,\n",
    "        drop_last=False,\n",
    "        persistent_workers=False,\n",
    "    )\n",
    "\n",
    "    return demo_data_loader\n"
   ]
  },
  {
   "cell_type": "code",
   "execution_count": 11,
   "metadata": {},
   "outputs": [
    {
     "name": "stderr",
     "output_type": "stream",
     "text": [
      "Loading zarr files:   0%|          | 0/1 [00:00<?, ?it/s]\n",
      "\u001b[A\n",
      "\u001b[A\n",
      "\u001b[A\n",
      "\u001b[A\n",
      "\u001b[A\n",
      "\u001b[A\n",
      "\u001b[A\n",
      "\u001b[A\n",
      "\u001b[A\n",
      "\u001b[A\n",
      "\u001b[A\n",
      "\u001b[A\n",
      "\u001b[A\n",
      "\u001b[A\n",
      "\u001b[A\n",
      "\u001b[A\n",
      "\u001b[A\n",
      "\u001b[A\n",
      "\u001b[A\n",
      "\u001b[A\n",
      "\u001b[A\n",
      "\u001b[A\n",
      "\u001b[A\n",
      "\u001b[A\n",
      "\u001b[A\n",
      "\u001b[A\n",
      "\u001b[A\n",
      "\u001b[A\n",
      "\u001b[A\n",
      "\u001b[A\n",
      "\u001b[A\n",
      "\u001b[A\n",
      "\u001b[A\n",
      "\u001b[A\n",
      "\u001b[A\n",
      "\u001b[A\n",
      "\u001b[A\n",
      "\u001b[A\n",
      "\u001b[A\n",
      "\u001b[A\n",
      "Loading zarr files: 100%|██████████| 1/1 [00:04<00:00,  4.32s/it]\n"
     ]
    },
    {
     "name": "stdout",
     "output_type": "stream",
     "text": [
      "Loading dataset of 50 episodes:\n",
      "  ('one_leg', 'teleop', 'low', 'success'): 50 episodes, 29020\n"
     ]
    }
   ],
   "source": [
    "dataset = get_demo_data_loader(\"delta\", 32).dataset"
   ]
  },
  {
   "cell_type": "code",
   "execution_count": 21,
   "metadata": {},
   "outputs": [],
   "source": [
    "# Get the episode data\n",
    "ep_ends = dataset.episode_ends\n",
    "\n",
    "images_list = np.split(dataset.train_data[\"color_image2\"], ep_ends[:-1])\n",
    "images_list = [image.numpy() for image in images_list]"
   ]
  },
  {
   "cell_type": "code",
   "execution_count": 26,
   "metadata": {},
   "outputs": [
    {
     "name": "stdout",
     "output_type": "stream",
     "text": [
      "File saved as demo_0.mp4\n"
     ]
    },
    {
     "data": {
      "text/html": [
       "<video controls src=\"demo_0.mp4\" width=\"640\" height=\"480\"></video>"
      ],
      "text/plain": [
       "<IPython.core.display.HTML object>"
      ]
     },
     "metadata": {},
     "output_type": "display_data"
    },
    {
     "name": "stdout",
     "output_type": "stream",
     "text": [
      "File saved as demo_1.mp4\n"
     ]
    },
    {
     "data": {
      "text/html": [
       "<video controls src=\"demo_1.mp4\" width=\"640\" height=\"480\"></video>"
      ],
      "text/plain": [
       "<IPython.core.display.HTML object>"
      ]
     },
     "metadata": {},
     "output_type": "display_data"
    },
    {
     "name": "stdout",
     "output_type": "stream",
     "text": [
      "File saved as demo_2.mp4\n"
     ]
    },
    {
     "data": {
      "text/html": [
       "<video controls src=\"demo_2.mp4\" width=\"640\" height=\"480\"></video>"
      ],
      "text/plain": [
       "<IPython.core.display.HTML object>"
      ]
     },
     "metadata": {},
     "output_type": "display_data"
    },
    {
     "name": "stdout",
     "output_type": "stream",
     "text": [
      "File saved as demo_3.mp4\n"
     ]
    },
    {
     "data": {
      "text/html": [
       "<video controls src=\"demo_3.mp4\" width=\"640\" height=\"480\"></video>"
      ],
      "text/plain": [
       "<IPython.core.display.HTML object>"
      ]
     },
     "metadata": {},
     "output_type": "display_data"
    },
    {
     "name": "stdout",
     "output_type": "stream",
     "text": [
      "File saved as demo_4.mp4\n"
     ]
    },
    {
     "data": {
      "text/html": [
       "<video controls src=\"demo_4.mp4\" width=\"640\" height=\"480\"></video>"
      ],
      "text/plain": [
       "<IPython.core.display.HTML object>"
      ]
     },
     "metadata": {},
     "output_type": "display_data"
    },
    {
     "name": "stdout",
     "output_type": "stream",
     "text": [
      "File saved as demo_5.mp4\n"
     ]
    },
    {
     "data": {
      "text/html": [
       "<video controls src=\"demo_5.mp4\" width=\"640\" height=\"480\"></video>"
      ],
      "text/plain": [
       "<IPython.core.display.HTML object>"
      ]
     },
     "metadata": {},
     "output_type": "display_data"
    },
    {
     "name": "stdout",
     "output_type": "stream",
     "text": [
      "File saved as demo_6.mp4\n"
     ]
    },
    {
     "data": {
      "text/html": [
       "<video controls src=\"demo_6.mp4\" width=\"640\" height=\"480\"></video>"
      ],
      "text/plain": [
       "<IPython.core.display.HTML object>"
      ]
     },
     "metadata": {},
     "output_type": "display_data"
    },
    {
     "name": "stdout",
     "output_type": "stream",
     "text": [
      "File saved as demo_7.mp4\n"
     ]
    },
    {
     "data": {
      "text/html": [
       "<video controls src=\"demo_7.mp4\" width=\"640\" height=\"480\"></video>"
      ],
      "text/plain": [
       "<IPython.core.display.HTML object>"
      ]
     },
     "metadata": {},
     "output_type": "display_data"
    },
    {
     "name": "stdout",
     "output_type": "stream",
     "text": [
      "File saved as demo_8.mp4\n"
     ]
    },
    {
     "data": {
      "text/html": [
       "<video controls src=\"demo_8.mp4\" width=\"640\" height=\"480\"></video>"
      ],
      "text/plain": [
       "<IPython.core.display.HTML object>"
      ]
     },
     "metadata": {},
     "output_type": "display_data"
    },
    {
     "name": "stdout",
     "output_type": "stream",
     "text": [
      "File saved as demo_9.mp4\n"
     ]
    },
    {
     "data": {
      "text/html": [
       "<video controls src=\"demo_9.mp4\" width=\"640\" height=\"480\"></video>"
      ],
      "text/plain": [
       "<IPython.core.display.HTML object>"
      ]
     },
     "metadata": {},
     "output_type": "display_data"
    },
    {
     "name": "stdout",
     "output_type": "stream",
     "text": [
      "File saved as demo_10.mp4\n"
     ]
    },
    {
     "data": {
      "text/html": [
       "<video controls src=\"demo_10.mp4\" width=\"640\" height=\"480\"></video>"
      ],
      "text/plain": [
       "<IPython.core.display.HTML object>"
      ]
     },
     "metadata": {},
     "output_type": "display_data"
    },
    {
     "name": "stdout",
     "output_type": "stream",
     "text": [
      "File saved as demo_11.mp4\n"
     ]
    },
    {
     "data": {
      "text/html": [
       "<video controls src=\"demo_11.mp4\" width=\"640\" height=\"480\"></video>"
      ],
      "text/plain": [
       "<IPython.core.display.HTML object>"
      ]
     },
     "metadata": {},
     "output_type": "display_data"
    },
    {
     "name": "stdout",
     "output_type": "stream",
     "text": [
      "File saved as demo_12.mp4\n"
     ]
    },
    {
     "data": {
      "text/html": [
       "<video controls src=\"demo_12.mp4\" width=\"640\" height=\"480\"></video>"
      ],
      "text/plain": [
       "<IPython.core.display.HTML object>"
      ]
     },
     "metadata": {},
     "output_type": "display_data"
    },
    {
     "name": "stdout",
     "output_type": "stream",
     "text": [
      "File saved as demo_13.mp4\n"
     ]
    },
    {
     "data": {
      "text/html": [
       "<video controls src=\"demo_13.mp4\" width=\"640\" height=\"480\"></video>"
      ],
      "text/plain": [
       "<IPython.core.display.HTML object>"
      ]
     },
     "metadata": {},
     "output_type": "display_data"
    },
    {
     "name": "stdout",
     "output_type": "stream",
     "text": [
      "File saved as demo_14.mp4\n"
     ]
    },
    {
     "data": {
      "text/html": [
       "<video controls src=\"demo_14.mp4\" width=\"640\" height=\"480\"></video>"
      ],
      "text/plain": [
       "<IPython.core.display.HTML object>"
      ]
     },
     "metadata": {},
     "output_type": "display_data"
    },
    {
     "name": "stdout",
     "output_type": "stream",
     "text": [
      "File saved as demo_15.mp4\n"
     ]
    },
    {
     "data": {
      "text/html": [
       "<video controls src=\"demo_15.mp4\" width=\"640\" height=\"480\"></video>"
      ],
      "text/plain": [
       "<IPython.core.display.HTML object>"
      ]
     },
     "metadata": {},
     "output_type": "display_data"
    },
    {
     "name": "stdout",
     "output_type": "stream",
     "text": [
      "File saved as demo_16.mp4\n"
     ]
    },
    {
     "data": {
      "text/html": [
       "<video controls src=\"demo_16.mp4\" width=\"640\" height=\"480\"></video>"
      ],
      "text/plain": [
       "<IPython.core.display.HTML object>"
      ]
     },
     "metadata": {},
     "output_type": "display_data"
    },
    {
     "name": "stdout",
     "output_type": "stream",
     "text": [
      "File saved as demo_17.mp4\n"
     ]
    },
    {
     "data": {
      "text/html": [
       "<video controls src=\"demo_17.mp4\" width=\"640\" height=\"480\"></video>"
      ],
      "text/plain": [
       "<IPython.core.display.HTML object>"
      ]
     },
     "metadata": {},
     "output_type": "display_data"
    },
    {
     "name": "stdout",
     "output_type": "stream",
     "text": [
      "File saved as demo_18.mp4\n"
     ]
    },
    {
     "data": {
      "text/html": [
       "<video controls src=\"demo_18.mp4\" width=\"640\" height=\"480\"></video>"
      ],
      "text/plain": [
       "<IPython.core.display.HTML object>"
      ]
     },
     "metadata": {},
     "output_type": "display_data"
    },
    {
     "name": "stdout",
     "output_type": "stream",
     "text": [
      "File saved as demo_19.mp4\n"
     ]
    },
    {
     "data": {
      "text/html": [
       "<video controls src=\"demo_19.mp4\" width=\"640\" height=\"480\"></video>"
      ],
      "text/plain": [
       "<IPython.core.display.HTML object>"
      ]
     },
     "metadata": {},
     "output_type": "display_data"
    },
    {
     "name": "stdout",
     "output_type": "stream",
     "text": [
      "File saved as demo_20.mp4\n"
     ]
    },
    {
     "data": {
      "text/html": [
       "<video controls src=\"demo_20.mp4\" width=\"640\" height=\"480\"></video>"
      ],
      "text/plain": [
       "<IPython.core.display.HTML object>"
      ]
     },
     "metadata": {},
     "output_type": "display_data"
    },
    {
     "name": "stdout",
     "output_type": "stream",
     "text": [
      "File saved as demo_21.mp4\n"
     ]
    },
    {
     "data": {
      "text/html": [
       "<video controls src=\"demo_21.mp4\" width=\"640\" height=\"480\"></video>"
      ],
      "text/plain": [
       "<IPython.core.display.HTML object>"
      ]
     },
     "metadata": {},
     "output_type": "display_data"
    },
    {
     "name": "stdout",
     "output_type": "stream",
     "text": [
      "File saved as demo_22.mp4\n"
     ]
    },
    {
     "data": {
      "text/html": [
       "<video controls src=\"demo_22.mp4\" width=\"640\" height=\"480\"></video>"
      ],
      "text/plain": [
       "<IPython.core.display.HTML object>"
      ]
     },
     "metadata": {},
     "output_type": "display_data"
    },
    {
     "name": "stdout",
     "output_type": "stream",
     "text": [
      "File saved as demo_23.mp4\n"
     ]
    },
    {
     "data": {
      "text/html": [
       "<video controls src=\"demo_23.mp4\" width=\"640\" height=\"480\"></video>"
      ],
      "text/plain": [
       "<IPython.core.display.HTML object>"
      ]
     },
     "metadata": {},
     "output_type": "display_data"
    },
    {
     "name": "stdout",
     "output_type": "stream",
     "text": [
      "File saved as demo_24.mp4\n"
     ]
    },
    {
     "data": {
      "text/html": [
       "<video controls src=\"demo_24.mp4\" width=\"640\" height=\"480\"></video>"
      ],
      "text/plain": [
       "<IPython.core.display.HTML object>"
      ]
     },
     "metadata": {},
     "output_type": "display_data"
    },
    {
     "name": "stdout",
     "output_type": "stream",
     "text": [
      "File saved as demo_25.mp4\n"
     ]
    },
    {
     "data": {
      "text/html": [
       "<video controls src=\"demo_25.mp4\" width=\"640\" height=\"480\"></video>"
      ],
      "text/plain": [
       "<IPython.core.display.HTML object>"
      ]
     },
     "metadata": {},
     "output_type": "display_data"
    },
    {
     "name": "stdout",
     "output_type": "stream",
     "text": [
      "File saved as demo_26.mp4\n"
     ]
    },
    {
     "data": {
      "text/html": [
       "<video controls src=\"demo_26.mp4\" width=\"640\" height=\"480\"></video>"
      ],
      "text/plain": [
       "<IPython.core.display.HTML object>"
      ]
     },
     "metadata": {},
     "output_type": "display_data"
    },
    {
     "name": "stdout",
     "output_type": "stream",
     "text": [
      "File saved as demo_27.mp4\n"
     ]
    },
    {
     "data": {
      "text/html": [
       "<video controls src=\"demo_27.mp4\" width=\"640\" height=\"480\"></video>"
      ],
      "text/plain": [
       "<IPython.core.display.HTML object>"
      ]
     },
     "metadata": {},
     "output_type": "display_data"
    },
    {
     "name": "stdout",
     "output_type": "stream",
     "text": [
      "File saved as demo_28.mp4\n"
     ]
    },
    {
     "data": {
      "text/html": [
       "<video controls src=\"demo_28.mp4\" width=\"640\" height=\"480\"></video>"
      ],
      "text/plain": [
       "<IPython.core.display.HTML object>"
      ]
     },
     "metadata": {},
     "output_type": "display_data"
    },
    {
     "name": "stdout",
     "output_type": "stream",
     "text": [
      "File saved as demo_29.mp4\n"
     ]
    },
    {
     "data": {
      "text/html": [
       "<video controls src=\"demo_29.mp4\" width=\"640\" height=\"480\"></video>"
      ],
      "text/plain": [
       "<IPython.core.display.HTML object>"
      ]
     },
     "metadata": {},
     "output_type": "display_data"
    },
    {
     "name": "stdout",
     "output_type": "stream",
     "text": [
      "File saved as demo_30.mp4\n"
     ]
    },
    {
     "data": {
      "text/html": [
       "<video controls src=\"demo_30.mp4\" width=\"640\" height=\"480\"></video>"
      ],
      "text/plain": [
       "<IPython.core.display.HTML object>"
      ]
     },
     "metadata": {},
     "output_type": "display_data"
    },
    {
     "name": "stdout",
     "output_type": "stream",
     "text": [
      "File saved as demo_31.mp4\n"
     ]
    },
    {
     "data": {
      "text/html": [
       "<video controls src=\"demo_31.mp4\" width=\"640\" height=\"480\"></video>"
      ],
      "text/plain": [
       "<IPython.core.display.HTML object>"
      ]
     },
     "metadata": {},
     "output_type": "display_data"
    },
    {
     "name": "stdout",
     "output_type": "stream",
     "text": [
      "File saved as demo_32.mp4\n"
     ]
    },
    {
     "data": {
      "text/html": [
       "<video controls src=\"demo_32.mp4\" width=\"640\" height=\"480\"></video>"
      ],
      "text/plain": [
       "<IPython.core.display.HTML object>"
      ]
     },
     "metadata": {},
     "output_type": "display_data"
    },
    {
     "name": "stdout",
     "output_type": "stream",
     "text": [
      "File saved as demo_33.mp4\n"
     ]
    },
    {
     "data": {
      "text/html": [
       "<video controls src=\"demo_33.mp4\" width=\"640\" height=\"480\"></video>"
      ],
      "text/plain": [
       "<IPython.core.display.HTML object>"
      ]
     },
     "metadata": {},
     "output_type": "display_data"
    },
    {
     "name": "stdout",
     "output_type": "stream",
     "text": [
      "File saved as demo_34.mp4\n"
     ]
    },
    {
     "data": {
      "text/html": [
       "<video controls src=\"demo_34.mp4\" width=\"640\" height=\"480\"></video>"
      ],
      "text/plain": [
       "<IPython.core.display.HTML object>"
      ]
     },
     "metadata": {},
     "output_type": "display_data"
    },
    {
     "name": "stdout",
     "output_type": "stream",
     "text": [
      "File saved as demo_35.mp4\n"
     ]
    },
    {
     "data": {
      "text/html": [
       "<video controls src=\"demo_35.mp4\" width=\"640\" height=\"480\"></video>"
      ],
      "text/plain": [
       "<IPython.core.display.HTML object>"
      ]
     },
     "metadata": {},
     "output_type": "display_data"
    },
    {
     "name": "stdout",
     "output_type": "stream",
     "text": [
      "File saved as demo_36.mp4\n"
     ]
    },
    {
     "data": {
      "text/html": [
       "<video controls src=\"demo_36.mp4\" width=\"640\" height=\"480\"></video>"
      ],
      "text/plain": [
       "<IPython.core.display.HTML object>"
      ]
     },
     "metadata": {},
     "output_type": "display_data"
    },
    {
     "name": "stdout",
     "output_type": "stream",
     "text": [
      "File saved as demo_37.mp4\n"
     ]
    },
    {
     "data": {
      "text/html": [
       "<video controls src=\"demo_37.mp4\" width=\"640\" height=\"480\"></video>"
      ],
      "text/plain": [
       "<IPython.core.display.HTML object>"
      ]
     },
     "metadata": {},
     "output_type": "display_data"
    },
    {
     "name": "stdout",
     "output_type": "stream",
     "text": [
      "File saved as demo_38.mp4\n"
     ]
    },
    {
     "data": {
      "text/html": [
       "<video controls src=\"demo_38.mp4\" width=\"640\" height=\"480\"></video>"
      ],
      "text/plain": [
       "<IPython.core.display.HTML object>"
      ]
     },
     "metadata": {},
     "output_type": "display_data"
    },
    {
     "name": "stdout",
     "output_type": "stream",
     "text": [
      "File saved as demo_39.mp4\n"
     ]
    },
    {
     "data": {
      "text/html": [
       "<video controls src=\"demo_39.mp4\" width=\"640\" height=\"480\"></video>"
      ],
      "text/plain": [
       "<IPython.core.display.HTML object>"
      ]
     },
     "metadata": {},
     "output_type": "display_data"
    },
    {
     "name": "stdout",
     "output_type": "stream",
     "text": [
      "File saved as demo_40.mp4\n"
     ]
    },
    {
     "data": {
      "text/html": [
       "<video controls src=\"demo_40.mp4\" width=\"640\" height=\"480\"></video>"
      ],
      "text/plain": [
       "<IPython.core.display.HTML object>"
      ]
     },
     "metadata": {},
     "output_type": "display_data"
    },
    {
     "name": "stdout",
     "output_type": "stream",
     "text": [
      "File saved as demo_41.mp4\n"
     ]
    },
    {
     "data": {
      "text/html": [
       "<video controls src=\"demo_41.mp4\" width=\"640\" height=\"480\"></video>"
      ],
      "text/plain": [
       "<IPython.core.display.HTML object>"
      ]
     },
     "metadata": {},
     "output_type": "display_data"
    },
    {
     "name": "stdout",
     "output_type": "stream",
     "text": [
      "File saved as demo_42.mp4\n"
     ]
    },
    {
     "data": {
      "text/html": [
       "<video controls src=\"demo_42.mp4\" width=\"640\" height=\"480\"></video>"
      ],
      "text/plain": [
       "<IPython.core.display.HTML object>"
      ]
     },
     "metadata": {},
     "output_type": "display_data"
    },
    {
     "name": "stdout",
     "output_type": "stream",
     "text": [
      "File saved as demo_43.mp4\n"
     ]
    },
    {
     "data": {
      "text/html": [
       "<video controls src=\"demo_43.mp4\" width=\"640\" height=\"480\"></video>"
      ],
      "text/plain": [
       "<IPython.core.display.HTML object>"
      ]
     },
     "metadata": {},
     "output_type": "display_data"
    },
    {
     "name": "stdout",
     "output_type": "stream",
     "text": [
      "File saved as demo_44.mp4\n"
     ]
    },
    {
     "data": {
      "text/html": [
       "<video controls src=\"demo_44.mp4\" width=\"640\" height=\"480\"></video>"
      ],
      "text/plain": [
       "<IPython.core.display.HTML object>"
      ]
     },
     "metadata": {},
     "output_type": "display_data"
    },
    {
     "name": "stdout",
     "output_type": "stream",
     "text": [
      "File saved as demo_45.mp4\n"
     ]
    },
    {
     "data": {
      "text/html": [
       "<video controls src=\"demo_45.mp4\" width=\"640\" height=\"480\"></video>"
      ],
      "text/plain": [
       "<IPython.core.display.HTML object>"
      ]
     },
     "metadata": {},
     "output_type": "display_data"
    },
    {
     "name": "stdout",
     "output_type": "stream",
     "text": [
      "File saved as demo_46.mp4\n"
     ]
    },
    {
     "data": {
      "text/html": [
       "<video controls src=\"demo_46.mp4\" width=\"640\" height=\"480\"></video>"
      ],
      "text/plain": [
       "<IPython.core.display.HTML object>"
      ]
     },
     "metadata": {},
     "output_type": "display_data"
    },
    {
     "name": "stdout",
     "output_type": "stream",
     "text": [
      "File saved as demo_47.mp4\n"
     ]
    },
    {
     "data": {
      "text/html": [
       "<video controls src=\"demo_47.mp4\" width=\"640\" height=\"480\"></video>"
      ],
      "text/plain": [
       "<IPython.core.display.HTML object>"
      ]
     },
     "metadata": {},
     "output_type": "display_data"
    },
    {
     "name": "stdout",
     "output_type": "stream",
     "text": [
      "File saved as demo_48.mp4\n"
     ]
    },
    {
     "data": {
      "text/html": [
       "<video controls src=\"demo_48.mp4\" width=\"640\" height=\"480\"></video>"
      ],
      "text/plain": [
       "<IPython.core.display.HTML object>"
      ]
     },
     "metadata": {},
     "output_type": "display_data"
    },
    {
     "name": "stdout",
     "output_type": "stream",
     "text": [
      "File saved as demo_49.mp4\n"
     ]
    },
    {
     "data": {
      "text/html": [
       "<video controls src=\"demo_49.mp4\" width=\"640\" height=\"480\"></video>"
      ],
      "text/plain": [
       "<IPython.core.display.HTML object>"
      ]
     },
     "metadata": {},
     "output_type": "display_data"
    }
   ],
   "source": [
    "for i, images in enumerate(images_list[:]):\n",
    "    create_mp4_jupyter(images, f\"demo_{i}.mp4\", fps=20)"
   ]
  },
  {
   "cell_type": "code",
   "execution_count": null,
   "metadata": {},
   "outputs": [],
   "source": []
  }
 ],
 "metadata": {
  "kernelspec": {
   "display_name": "rr",
   "language": "python",
   "name": "python3"
  },
  "language_info": {
   "codemirror_mode": {
    "name": "ipython",
    "version": 3
   },
   "file_extension": ".py",
   "mimetype": "text/x-python",
   "name": "python",
   "nbconvert_exporter": "python",
   "pygments_lexer": "ipython3",
   "version": "3.8.19"
  }
 },
 "nbformat": 4,
 "nbformat_minor": 2
}
