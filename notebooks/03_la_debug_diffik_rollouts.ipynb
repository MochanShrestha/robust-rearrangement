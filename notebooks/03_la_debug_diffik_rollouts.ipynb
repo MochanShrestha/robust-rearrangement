{
 "cells": [
  {
   "cell_type": "code",
   "execution_count": null,
   "metadata": {},
   "outputs": [],
   "source": [
    "from src.common.files import get_raw_paths, get_processed_path\n",
    "from src.visualization.render_mp4 import pickle_data, unpickle_data\n",
    "\n",
    "import numpy as np\n",
    "\n",
    "import zarr\n",
    "import matplotlib.pyplot as plt"
   ]
  },
  {
   "cell_type": "code",
   "execution_count": null,
   "metadata": {},
   "outputs": [],
   "source": [
    "paths = get_raw_paths(\n",
    "    environment=\"sim\",\n",
    "    task=\"one_leg\",\n",
    "    demo_source=\"rollout\",\n",
    "    randomness=\"low\",\n",
    "    demo_outcome=\"success\",\n",
    "    suffix=\"diffik\"\n",
    ")\n",
    "\n",
    "len(paths)"
   ]
  },
  {
   "cell_type": "code",
   "execution_count": null,
   "metadata": {},
   "outputs": [],
   "source": [
    "for p in paths:\n",
    "    d = unpickle_data(p)\n",
    "    actions = np.array(d[\"actions\"])\n",
    "\n",
    "    if (actions.max(axis=0) > 5).any():\n",
    "        print(p)\n",
    "        print(actions.max(axis=0).round(3).tolist())\n",
    "\n"
   ]
  },
  {
   "cell_type": "code",
   "execution_count": null,
   "metadata": {},
   "outputs": [],
   "source": [
    "for p in paths:\n",
    "    d = unpickle_data(p)\n",
    "    obs = np.array(d[\"observations\"])\n",
    "\n",
    "    robot_state = np.array([o[\"robot_state\"] for o in obs])\n",
    "\n",
    "    print(robot_state.max(axis=0))"
   ]
  },
  {
   "cell_type": "code",
   "execution_count": null,
   "metadata": {},
   "outputs": [],
   "source": [
    "zarr_path = get_processed_path(\n",
    "    environment=\"sim\",\n",
    "    task=\"one_leg\",\n",
    "    demo_source=\"rollout\",\n",
    "    randomness=\"low\",\n",
    "    demo_outcome=\"success\",\n",
    "    suffix=\"diffik\"\n",
    ")\n",
    "\n",
    "z = zarr.open(zarr_path)\n",
    "\n",
    "action = z[\"action/pos\"][:]\n",
    "\n",
    "print(len(z[\"episode_ends\"]), z[\"action/pos\"].shape)\n",
    "\n",
    "list(z.keys())"
   ]
  },
  {
   "cell_type": "code",
   "execution_count": null,
   "metadata": {},
   "outputs": [],
   "source": [
    "action.mean(axis=0).round(3).tolist()"
   ]
  },
  {
   "cell_type": "markdown",
   "metadata": {},
   "source": [
    "## Look at new `diffik` rollouts"
   ]
  },
  {
   "cell_type": "code",
   "execution_count": null,
   "metadata": {},
   "outputs": [],
   "source": [
    "%load_ext autoreload\n",
    "%autoreload 2"
   ]
  },
  {
   "cell_type": "code",
   "execution_count": null,
   "metadata": {},
   "outputs": [],
   "source": [
    "import random\n",
    "\n",
    "from src.visualization.render_mp4 import pickle_data, unpickle_data, mp4_from_pickle_jupyter\n",
    "from src.common.files import get_raw_paths, get_processed_path"
   ]
  },
  {
   "cell_type": "code",
   "execution_count": null,
   "metadata": {},
   "outputs": [],
   "source": [
    "raw_paths = get_raw_paths(\n",
    "    environment=\"sim\",\n",
    "    task=\"one_leg\",\n",
    "    demo_source=\"rollout\",\n",
    "    randomness=\"low\",\n",
    "    demo_outcome=\"success\",\n",
    "    suffix=\"diffik\",\n",
    ")\n",
    "\n",
    "len(raw_paths)"
   ]
  },
  {
   "cell_type": "code",
   "execution_count": null,
   "metadata": {},
   "outputs": [],
   "source": [
    "# Visualize some rollouts\n",
    "# Get newest rollouts\n",
    "raw_paths = sorted(raw_paths, reverse=True)\n",
    "\n",
    "for i, p in enumerate(raw_paths[:3]):\n",
    "    print(f\"{i}: {p}\")\n",
    "    mp4_from_pickle_jupyter(p, f\"rollout_{i}.mp4\", fps=20, speed_annotation=True)"
   ]
  },
  {
   "cell_type": "code",
   "execution_count": null,
   "metadata": {},
   "outputs": [],
   "source": []
  }
 ],
 "metadata": {
  "kernelspec": {
   "display_name": "rr",
   "language": "python",
   "name": "python3"
  },
  "language_info": {
   "codemirror_mode": {
    "name": "ipython",
    "version": 3
   },
   "file_extension": ".py",
   "mimetype": "text/x-python",
   "name": "python",
   "nbconvert_exporter": "python",
   "pygments_lexer": "ipython3",
   "version": "3.8.19"
  }
 },
 "nbformat": 4,
 "nbformat_minor": 2
}
