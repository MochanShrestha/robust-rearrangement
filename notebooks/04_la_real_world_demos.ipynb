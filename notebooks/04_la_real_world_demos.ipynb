{
 "cells": [
  {
   "cell_type": "code",
   "execution_count": 21,
   "metadata": {},
   "outputs": [],
   "source": [
    "import numpy as np\n",
    "import zarr\n",
    "\n",
    "from src.common.files import get_raw_paths, get_processed_path\n",
    "from src.visualization.render_mp4 import unpickle_data, pickle_data\n",
    "\n",
    "from scipy.spatial.transform import Rotation as R\n",
    "\n",
    "from tqdm import tqdm"
   ]
  },
  {
   "cell_type": "code",
   "execution_count": 2,
   "metadata": {},
   "outputs": [
    {
     "name": "stdout",
     "output_type": "stream",
     "text": [
      "Found the following paths:\n",
      "    /data/scratch-oc40/pulkitag/ankile/furniture-data/raw/real/place_shade/teleop/low/**/success/*.pkl*\n"
     ]
    },
    {
     "data": {
      "text/plain": [
       "22"
      ]
     },
     "execution_count": 2,
     "metadata": {},
     "output_type": "execute_result"
    }
   ],
   "source": [
    "raw_paths = get_raw_paths(\n",
    "    environment=\"real\",\n",
    "    demo_outcome=\"success\",\n",
    "    demo_source=\"teleop\",\n",
    "    randomness=\"low\",\n",
    "    task=\"place_shade\",\n",
    ")\n",
    "\n",
    "len(raw_paths)"
   ]
  },
  {
   "cell_type": "markdown",
   "metadata": {},
   "source": [
    "### Convert the data to be stored with delta actions in the pickle file"
   ]
  },
  {
   "cell_type": "code",
   "execution_count": 18,
   "metadata": {},
   "outputs": [
    {
     "name": "stderr",
     "output_type": "stream",
     "text": [
      "100%|██████████| 22/22 [04:01<00:00, 10.97s/it]\n"
     ]
    }
   ],
   "source": [
    "for raw_path in tqdm(raw_paths):\n",
    "    data = unpickle_data(raw_path)\n",
    "\n",
    "    actions = np.array(data[\"actions\"])\n",
    "    robot_state = np.stack([o[\"robot_state\"] for o in data[\"observations\"]])\n",
    "\n",
    "    robot_pos, robot_quat = robot_state[:, :3], robot_state[:, 3:]\n",
    "    action_pos, action_quat, action_gripper = actions[:, :3], actions[:, 3:7], actions[:, -1:]\n",
    "\n",
    "    # Calclate what the delta action is\n",
    "    action_delta_pos = action_pos - robot_pos\n",
    "\n",
    "    # Calculate the delta quaternion\n",
    "    robot_r = R.from_quat(robot_quat)\n",
    "    action_r = R.from_quat(action_quat)\n",
    "    action_delta_r = robot_r.inv() * action_r\n",
    "    action_delta_quat = action_delta_r.as_quat()\n",
    "\n",
    "    # Concatenate the delta action\n",
    "    action_delta = np.concatenate([action_delta_pos, action_delta_quat, action_gripper], axis=-1)\n",
    "\n",
    "    data[\"actions\"] = action_delta\n",
    "    pickle_data(data, raw_path)"
   ]
  },
  {
   "cell_type": "code",
   "execution_count": 20,
   "metadata": {},
   "outputs": [
    {
     "data": {
      "text/plain": [
       "PosixPath('/data/scratch/ankile/furniture-data/processed/real/place_shade/teleop/low/success.zarr')"
      ]
     },
     "execution_count": 20,
     "metadata": {},
     "output_type": "execute_result"
    }
   ],
   "source": [
    "zarr_path = get_processed_path(\n",
    "    environment=\"real\",\n",
    "    demo_outcome=\"success\",\n",
    "    demo_source=\"teleop\",\n",
    "    randomness=\"low\",\n",
    "    task=\"place_shade\",\n",
    ")\n",
    "\n",
    "zarr_path"
   ]
  },
  {
   "cell_type": "code",
   "execution_count": 23,
   "metadata": {},
   "outputs": [
    {
     "data": {
      "text/plain": [
       "['action',\n",
       " 'augment_states',\n",
       " 'color_image1',\n",
       " 'color_image2',\n",
       " 'critical_state_id',\n",
       " 'episode_ends',\n",
       " 'failure_idx',\n",
       " 'furniture',\n",
       " 'parts_poses',\n",
       " 'pickle_file',\n",
       " 'reward',\n",
       " 'robot_state',\n",
       " 'skill',\n",
       " 'success']"
      ]
     },
     "execution_count": 23,
     "metadata": {},
     "output_type": "execute_result"
    }
   ],
   "source": [
    "z = zarr.open(zarr_path)\n",
    "\n",
    "list(z.keys())"
   ]
  },
  {
   "cell_type": "code",
   "execution_count": 27,
   "metadata": {},
   "outputs": [
    {
     "data": {
      "text/plain": [
       "((6162, 9), (6162, 10))"
      ]
     },
     "execution_count": 27,
     "metadata": {},
     "output_type": "execute_result"
    }
   ],
   "source": [
    "# Print ranges of the robot_state and actions\n",
    "robot_state = z[\"robot_state\"][:]\n",
    "actions = z[\"action/pos\"][:]\n",
    "\n",
    "robot_state.shape, actions.shape"
   ]
  },
  {
   "cell_type": "code",
   "execution_count": 33,
   "metadata": {},
   "outputs": [
    {
     "name": "stdout",
     "output_type": "stream",
     "text": [
      "[ 0.42  -0.241  0.181 -0.517 -1.    -0.166 -1.    -0.96  -0.237]\n",
      "[ 0.668  0.292  0.536  0.961 -0.258  0.257 -0.242  0.516  0.26 ]\n"
     ]
    }
   ],
   "source": [
    "print(robot_state.min(axis=0).round(3))\n",
    "print(robot_state.max(axis=0).round(3))"
   ]
  },
  {
   "cell_type": "code",
   "execution_count": 35,
   "metadata": {},
   "outputs": [
    {
     "name": "stdout",
     "output_type": "stream",
     "text": [
      "[ 0.415 -0.243  0.169 -0.529 -1.    -0.172 -1.    -0.961 -0.249 -1.   ]\n",
      "[ 0.673  0.292  0.536  0.959 -0.262  0.252 -0.243  0.528  0.272  1.   ]\n"
     ]
    }
   ],
   "source": [
    "print(actions.min(axis=0).round(3))\n",
    "print(actions.max(axis=0).round(3))"
   ]
  },
  {
   "cell_type": "code",
   "execution_count": null,
   "metadata": {},
   "outputs": [],
   "source": []
  }
 ],
 "metadata": {
  "kernelspec": {
   "display_name": "rr",
   "language": "python",
   "name": "python3"
  },
  "language_info": {
   "codemirror_mode": {
    "name": "ipython",
    "version": 3
   },
   "file_extension": ".py",
   "mimetype": "text/x-python",
   "name": "python",
   "nbconvert_exporter": "python",
   "pygments_lexer": "ipython3",
   "version": "3.8.19"
  }
 },
 "nbformat": 4,
 "nbformat_minor": 2
}
