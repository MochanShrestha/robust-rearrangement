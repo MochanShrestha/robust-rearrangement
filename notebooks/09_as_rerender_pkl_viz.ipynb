{
 "cells": [
  {
   "cell_type": "code",
   "execution_count": 5,
   "metadata": {},
   "outputs": [],
   "source": [
    "from pathlib import Path"
   ]
  },
  {
   "cell_type": "code",
   "execution_count": 6,
   "metadata": {},
   "outputs": [
    {
     "name": "stdout",
     "output_type": "stream",
     "text": [
      "File saved as test.mp4\n"
     ]
    },
    {
     "data": {
      "text/html": [
       "<video controls src=\"test.mp4\" width=\"640\" height=\"480\"></video>"
      ],
      "text/plain": [
       "<IPython.core.display.HTML object>"
      ]
     },
     "metadata": {},
     "output_type": "display_data"
    }
   ],
   "source": [
    "base_pkl_path = Path(\"/home/anthony/repos/research/robust-rearrangement/src/sim2real/scripts\")\n",
    "# pkl_path = base_pkl_path / \"rerender/one_leg/domain_rand/residual-ppo-dr-med-1/h7dg0og4/rollout/med_base_base/2024-05-30T19:41:28.pkl\"\n",
    "pkl_path = base_pkl_path / \"rerender/one_leg/domain_rand/residual-ppo-dr-med-1/h7dg0og4/rollout/med_base_base_320-1_light_drama/2024-06-01T22:39:58.pkl\"\n",
    "# pkl_path = base_pkl_path / \"rerender/one_leg/domain_rand/residual-ppo-dr-med-1/h7dg0og4/rollout/med_base_base_320-2_light_drama/2024-06-01T22:43:26.pkl\"\n",
    "\n",
    "from src.visualization.render_mp4 import mp4_from_pickle_jupyter\n",
    "\n",
    "mp4_from_pickle_jupyter(pkl_path, 'test.mp4')"
   ]
  }
 ],
 "metadata": {
  "kernelspec": {
   "display_name": "robust-furn-env",
   "language": "python",
   "name": "python3"
  },
  "language_info": {
   "codemirror_mode": {
    "name": "ipython",
    "version": 3
   },
   "file_extension": ".py",
   "mimetype": "text/x-python",
   "name": "python",
   "nbconvert_exporter": "python",
   "pygments_lexer": "ipython3",
   "version": "3.8.19"
  }
 },
 "nbformat": 4,
 "nbformat_minor": 2
}
