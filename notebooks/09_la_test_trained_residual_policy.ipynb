{
 "cells": [
  {
   "cell_type": "code",
   "execution_count": 1,
   "metadata": {},
   "outputs": [
    {
     "name": "stdout",
     "output_type": "stream",
     "text": [
      "Importing module 'gym_38' (/data/scratch/ankile/isaacgym/python/isaacgym/_bindings/linux-x86_64/gym_38.so)\n",
      "Setting GYM_USD_PLUG_INFO_PATH to /data/scratch/ankile/isaacgym/python/isaacgym/_bindings/linux-x86_64/usd/plugInfo.json\n",
      "PyTorch version 2.3.0+cu121\n",
      "Device count 1\n",
      "/data/scratch/ankile/isaacgym/python/isaacgym/_bindings/src/gymtorch\n"
     ]
    },
    {
     "name": "stderr",
     "output_type": "stream",
     "text": [
      "Using /data/scratch/ankile/.cache as PyTorch extensions root...\n",
      "Emitting ninja build file /data/scratch/ankile/.cache/gymtorch/build.ninja...\n",
      "Building extension module gymtorch...\n",
      "Allowing ninja to set a default number of workers... (overridable by setting the environment variable MAX_JOBS=N)\n"
     ]
    },
    {
     "name": "stdout",
     "output_type": "stream",
     "text": [
      "ninja: no work to do.\n"
     ]
    },
    {
     "name": "stderr",
     "output_type": "stream",
     "text": [
      "Loading extension module gymtorch...\n"
     ]
    }
   ],
   "source": [
    "import furniture_bench  # noqa: F401\n",
    "\n",
    "from src.behavior.base import Actor\n",
    "from src.eval.load_model import load_bc_actor\n",
    "\n",
    "import wandb\n",
    "import numpy as np\n",
    "import torch\n",
    "\n",
    "from omegaconf import OmegaConf\n",
    "\n",
    "from furniture_bench.envs.observation import DEFAULT_STATE_OBS\n",
    "import hydra\n",
    "from src.gym import turn_off_april_tags\n",
    "from src.gym.env_rl_wrapper import ResidualPolicyEnvWrapper\n",
    "from src.gym.furniture_sim_env import FurnitureRLSimEnv\n",
    "from src.models.residual import ResidualPolicy\n",
    "\n",
    "\n",
    "turn_off_april_tags()\n",
    "\n",
    "api = wandb.Api()\n",
    "\n",
    "device = \"cuda\" if torch.cuda.is_available() else \"cpu\""
   ]
  },
  {
   "cell_type": "code",
   "execution_count": 2,
   "metadata": {},
   "outputs": [
    {
     "data": {
      "text/plain": [
       "{'seed': 3482095094, 'debug': False, 'gamma': 0.999, 'wandb': {'entity': 'ankile', 'project': 'residual-ppo-2'}, 'vf_coef': 0.5, 'ent_coef': 0, 'headless': True, 'norm_adv': True, 'num_envs': 1024, 'clip_coef': 0.2, 'target_kl': 0.03, 'batch_size': 870400, 'clip_vloss': True, 'gae_lambda': 0.95, 'norm_grads': False, 'action_type': 'pos', 'act_rot_repr': 'rot_6d', 'lr_scheduler': {'name': 'cosine', 'warmup_steps': 5}, 'base_bc_poliy': 'ankile/one_leg-diffusion-state-1/runs/7623y5vn', 'eval_interval': 5, 'max_grad_norm': 0.5, 'num_env_steps': 850, 'update_epochs': 10, 'minibatch_size': 870400, 'num_iterations': 574, 'num_minibatches': 1, 'residual_policy': {'_target_': 'src.models.residual.ResidualPolicy', 'init_logstd': -1, 'action_scale': 0.05, 'action_head_std': 0, 'actor_activation': 'ReLU', 'actor_num_layers': 2, 'actor_hidden_size': 512, 'critic_activation': 'ReLU', 'critic_num_layers': 2, 'critic_hidden_size': 512, 'critic_last_layer_bias_const': 0.5}, 'total_timesteps': 500000000, 'normalize_reward': True, 'reset_on_failure': False, 'reset_on_success': False, 'truncation_as_done': True, 'checkpoint_interval': 10, 'learning_rate_actor': 0.0001, 'torch_deterministic': True, 'learning_rate_critic': 0.001, 'data_collection_steps': 850, 'reset_every_iteration': True, 'residual_regularization': 0.05, 'n_iterations_train_only_value': 0, 'env': {'randomness': 'low'}}"
      ]
     },
     "execution_count": 2,
     "metadata": {},
     "output_type": "execute_result"
    }
   ],
   "source": [
    "residual_run = api.run(\"residual-ppo-2/runs/sdoolikr\")\n",
    "\n",
    "cfg = OmegaConf.create(\n",
    "    {\n",
    "        **residual_run.config,\n",
    "        \"env\": {\"randomness\": \"low\"},\n",
    "        # \"base_bc_poliy\": \"ankile/one_leg-diffusion-state-1/runs/7623y5vn\",\n",
    "    }\n",
    ")\n",
    "\n",
    "cfg"
   ]
  },
  {
   "cell_type": "code",
   "execution_count": 3,
   "metadata": {},
   "outputs": [
    {
     "name": "stdout",
     "output_type": "stream",
     "text": [
      "Making DiffIK controller with pos_scalar: 1.0, rot_scalar: 1.0\n",
      "Stiffness: 1000.0, Damping: 200.0\n",
      "Observation keys: ['robot_state/ee_pos', 'robot_state/ee_quat', 'robot_state/ee_pos_vel', 'robot_state/ee_ori_vel', 'robot_state/gripper_width', 'parts_poses']\n",
      "Not connected to PVD\n",
      "+++ Using GPU PhysX\n",
      "Physics Engine: PhysX\n",
      "Physics Device: cuda:0\n",
      "GPU Pipeline: enabled\n",
      "Using SDF cache directory '/afs/csail.mit.edu/u/a/ankile/.isaacgym/sdf_V100'\n",
      "~!~!~! Loaded/Cooked SDF triangle mesh 0 @ 0xcc64e2d0, resolution=512, spacing=0.000317\n",
      "  ~!~! Bounds:  (-0.081250, 0.081250) (-0.015685, 0.015565) (-0.081250, 0.081251)\n",
      "  ~!~! Extents: (0.162500, 0.031250, 0.162501)\n",
      "  ~!~! Resolution: (512, 99, 512)\n",
      "~!~!~! Loaded/Cooked SDF triangle mesh 1 @ 0xcc4a32b0, resolution=512, spacing=0.000171\n",
      "  ~!~! Bounds:  (-0.015000, 0.015000) (-0.056250, 0.031250) (-0.014383, 0.015618)\n",
      "  ~!~! Extents: (0.030000, 0.087500, 0.030001)\n",
      "  ~!~! Resolution: (176, 512, 176)\n",
      "~!~!~! Loaded/Cooked SDF triangle mesh 2 @ 0xcddf22d0, resolution=512, spacing=0.000172\n",
      "  ~!~! Bounds:  (-0.015000, 0.015000) (-0.056562, 0.031376) (-0.015438, 0.014563)\n",
      "  ~!~! Extents: (0.030000, 0.087938, 0.030001)\n",
      "  ~!~! Resolution: (175, 512, 175)\n",
      "~!~!~! Loaded/Cooked SDF triangle mesh 3 @ 0xcdb37e20, resolution=512, spacing=0.000171\n",
      "  ~!~! Bounds:  (-0.015000, 0.015000) (-0.056250, 0.031250) (-0.014375, 0.015625)\n",
      "  ~!~! Extents: (0.030000, 0.087500, 0.030000)\n",
      "  ~!~! Resolution: (176, 512, 176)\n",
      "~!~!~! Loaded/Cooked SDF triangle mesh 4 @ 0xcdfe3d70, resolution=512, spacing=0.000171\n",
      "  ~!~! Bounds:  (-0.015000, 0.015000) (-0.056250, 0.031250) (-0.015618, 0.014383)\n",
      "  ~!~! Extents: (0.030000, 0.087500, 0.030001)\n",
      "  ~!~! Resolution: (176, 512, 176)\n",
      "Making DiffIK controller with pos_scalar: 1.0, rot_scalar: 1.0\n",
      "Sim steps: 6\n",
      "Max force magnitude: 0.2, Max torque magnitude: 0.005\n"
     ]
    },
    {
     "name": "stderr",
     "output_type": "stream",
     "text": [
      "/data/scratch/ankile/miniconda3/envs/rr/lib/python3.8/site-packages/diffusers/utils/outputs.py:63: UserWarning: torch.utils._pytree._register_pytree_node is deprecated. Please use torch.utils._pytree.register_pytree_node instead.\n",
      "  torch.utils._pytree._register_pytree_node(\n"
     ]
    },
    {
     "name": "stdout",
     "output_type": "stream",
     "text": [
      "Total parameters: 66.69M\n",
      "normalizer: 0.00M parameters\n",
      "loss_fn: 0.00M parameters\n",
      "model: 66.69M parameters\n",
      "./models/star-destroyer-10/actor_chkpt_best_success_rate.pt\n",
      "Total parameters: 0.59M\n",
      "actor_mean: 0.30M parameters\n",
      "critic: 0.29M parameters\n"
     ]
    },
    {
     "data": {
      "text/plain": [
       "ResidualPolicy(\n",
       "  (actor_mean): Sequential(\n",
       "    (0): Linear(in_features=61, out_features=512, bias=True)\n",
       "    (1): ReLU()\n",
       "    (2): Linear(in_features=512, out_features=512, bias=True)\n",
       "    (3): ReLU()\n",
       "    (4): Linear(in_features=512, out_features=10, bias=False)\n",
       "  )\n",
       "  (critic): Sequential(\n",
       "    (0): Linear(in_features=61, out_features=512, bias=True)\n",
       "    (1): ReLU()\n",
       "    (2): Linear(in_features=512, out_features=512, bias=True)\n",
       "    (3): ReLU()\n",
       "    (4): Linear(in_features=512, out_features=1, bias=True)\n",
       "  )\n",
       ")"
      ]
     },
     "execution_count": 3,
     "metadata": {},
     "output_type": "execute_result"
    }
   ],
   "source": [
    "env: FurnitureRLSimEnv = FurnitureRLSimEnv(\n",
    "    act_rot_repr=cfg.act_rot_repr,\n",
    "    action_type=cfg.action_type,\n",
    "    april_tags=False,\n",
    "    concat_robot_state=True,\n",
    "    ctrl_mode=\"diffik\",\n",
    "    obs_keys=DEFAULT_STATE_OBS,\n",
    "    furniture=\"one_leg\",\n",
    "    gpu_id=0,\n",
    "    headless=True,  # cfg.headless,\n",
    "    num_envs=128,  # cfg.num_envs,\n",
    "    observation_space=\"state\",\n",
    "    randomness=cfg.env.randomness,\n",
    "    max_env_steps=100_000_000,\n",
    ")\n",
    "\n",
    "# Load the behavior cloning actor\n",
    "bc_actor: Actor = load_bc_actor(cfg.base_bc_poliy)\n",
    "\n",
    "env: ResidualPolicyEnvWrapper = ResidualPolicyEnvWrapper(\n",
    "    env,\n",
    "    max_env_steps=cfg.num_env_steps,\n",
    "    reset_on_success=cfg.reset_on_success,\n",
    "    reset_on_failure=cfg.reset_on_failure,\n",
    ")\n",
    "env.set_normalizer(bc_actor.normalizer)\n",
    "\n",
    "# Residual policy setup\n",
    "residual_policy: ResidualPolicy = hydra.utils.instantiate(\n",
    "    cfg.residual_policy,\n",
    "    obs_shape=env.observation_space.shape,\n",
    "    action_shape=env.action_space.shape,\n",
    ")\n",
    "\n",
    "residual_policy.to(device)"
   ]
  },
  {
   "cell_type": "code",
   "execution_count": 4,
   "metadata": {},
   "outputs": [
    {
     "name": "stderr",
     "output_type": "stream",
     "text": [
      "  0%|          | 0/850 [00:00<?, ?it/s]/data/scratch/ankile/miniconda3/envs/rr/lib/python3.8/site-packages/torch/nn/modules/conv.py:306: UserWarning: Plan failed with a cudnnException: CUDNN_BACKEND_EXECUTION_PLAN_DESCRIPTOR: cudnnFinalize Descriptor Failed cudnn_status: CUDNN_STATUS_NOT_SUPPORTED (Triggered internally at ../aten/src/ATen/native/cudnn/Conv_v8.cpp:919.)\n",
      "  return F.conv1d(input, weight, bias, self.stride,\n",
      " 65%|██████▌   | 555/850 [01:25<00:52,  5.65it/s]INFO: square_table_top (id: 0), square_table_leg4 (id: 4) are assembled.\n",
      "INFO: Assembled Set [square_table_top (id: 0), square_table_leg4 (id: 4)]\n",
      " 66%|██████▋   | 565/850 [01:27<00:47,  6.01it/s]INFO: square_table_top (id: 0), square_table_leg4 (id: 4) are assembled.\n",
      "INFO: Assembled Set [square_table_top (id: 0), square_table_leg4 (id: 4)]\n",
      " 67%|██████▋   | 572/850 [01:28<00:48,  5.79it/s]INFO: square_table_top (id: 0), square_table_leg4 (id: 4) are assembled.\n",
      "INFO: Assembled Set [square_table_top (id: 0), square_table_leg4 (id: 4)]\n",
      " 67%|██████▋   | 573/850 [01:28<00:46,  5.92it/s]INFO: square_table_top (id: 0), square_table_leg4 (id: 4) are assembled.\n",
      "INFO: Assembled Set [square_table_top (id: 0), square_table_leg4 (id: 4)]\n",
      " 68%|██████▊   | 574/850 [01:29<00:45,  6.02it/s]INFO: square_table_top (id: 0), square_table_leg4 (id: 4) are assembled.\n",
      "INFO: Assembled Set [square_table_top (id: 0), square_table_leg4 (id: 4)]\n",
      " 68%|██████▊   | 577/850 [01:29<00:55,  4.96it/s]INFO: square_table_top (id: 0), square_table_leg4 (id: 4) are assembled.\n",
      "INFO: Assembled Set [square_table_top (id: 0), square_table_leg4 (id: 4)]\n",
      " 68%|██████▊   | 581/850 [01:30<00:44,  6.05it/s]INFO: square_table_top (id: 0), square_table_leg4 (id: 4) are assembled.\n",
      "INFO: Assembled Set [square_table_top (id: 0), square_table_leg4 (id: 4)]\n",
      " 68%|██████▊   | 582/850 [01:30<00:43,  6.18it/s]INFO: square_table_top (id: 0), square_table_leg4 (id: 4) are assembled.\n",
      "INFO: Assembled Set [square_table_top (id: 0), square_table_leg4 (id: 4)]\n",
      " 71%|███████▏  | 606/850 [01:34<00:40,  6.04it/s]INFO: square_table_top (id: 0), square_table_leg4 (id: 4) are assembled.\n",
      "INFO: Assembled Set [square_table_top (id: 0), square_table_leg4 (id: 4)]\n",
      " 72%|███████▏  | 610/850 [01:35<00:45,  5.23it/s]INFO: square_table_top (id: 0), square_table_leg4 (id: 4) are assembled.\n",
      "INFO: Assembled Set [square_table_top (id: 0), square_table_leg4 (id: 4)]\n",
      " 72%|███████▏  | 613/850 [01:35<00:39,  5.96it/s]INFO: square_table_top (id: 0), square_table_leg4 (id: 4) are assembled.\n",
      "INFO: Assembled Set [square_table_top (id: 0), square_table_leg4 (id: 4)]\n",
      " 75%|███████▍  | 634/850 [01:39<00:39,  5.41it/s]INFO: square_table_top (id: 0), square_table_leg4 (id: 4) are assembled.\n",
      "INFO: Assembled Set [square_table_top (id: 0), square_table_leg4 (id: 4)]\n",
      " 75%|███████▍  | 635/850 [01:39<00:37,  5.71it/s]INFO: square_table_top (id: 0), square_table_leg4 (id: 4) are assembled.\n",
      "INFO: Assembled Set [square_table_top (id: 0), square_table_leg4 (id: 4)]\n",
      " 75%|███████▌  | 638/850 [01:40<00:34,  6.19it/s]INFO: square_table_top (id: 0), square_table_leg4 (id: 4) are assembled.\n",
      "INFO: Assembled Set [square_table_top (id: 0), square_table_leg4 (id: 4)]\n",
      " 76%|███████▌  | 644/850 [01:41<00:34,  5.93it/s]INFO: square_table_top (id: 0), square_table_leg4 (id: 4) are assembled.\n",
      "INFO: Assembled Set [square_table_top (id: 0), square_table_leg4 (id: 4)]\n",
      " 76%|███████▌  | 646/850 [01:41<00:33,  6.17it/s]INFO: square_table_top (id: 0), square_table_leg4 (id: 4) are assembled.\n",
      "INFO: Assembled Set [square_table_top (id: 0), square_table_leg4 (id: 4)]\n",
      " 77%|███████▋  | 652/850 [01:42<00:33,  5.89it/s]INFO: square_table_top (id: 0), square_table_leg4 (id: 4) are assembled.\n",
      "INFO: Assembled Set [square_table_top (id: 0), square_table_leg4 (id: 4)]\n",
      " 78%|███████▊  | 659/850 [01:43<00:33,  5.76it/s]INFO: square_table_top (id: 0), square_table_leg4 (id: 4) are assembled.\n",
      "INFO: Assembled Set [square_table_top (id: 0), square_table_leg4 (id: 4)]\n",
      " 78%|███████▊  | 661/850 [01:44<00:30,  6.16it/s]INFO: square_table_top (id: 0), square_table_leg4 (id: 4) are assembled.\n",
      "INFO: Assembled Set [square_table_top (id: 0), square_table_leg4 (id: 4)]\n",
      "INFO: square_table_top (id: 0), square_table_leg4 (id: 4) are assembled.\n",
      "INFO: Assembled Set [square_table_top (id: 0), square_table_leg4 (id: 4)]\n",
      "INFO: square_table_top (id: 0), square_table_leg4 (id: 4) are assembled.\n",
      "INFO: Assembled Set [square_table_top (id: 0), square_table_leg4 (id: 4)]\n",
      " 80%|███████▉  | 678/850 [01:47<00:27,  6.21it/s]INFO: square_table_top (id: 0), square_table_leg4 (id: 4) are assembled.\n",
      "INFO: Assembled Set [square_table_top (id: 0), square_table_leg4 (id: 4)]\n",
      " 80%|████████  | 684/850 [01:48<00:27,  5.97it/s]INFO: square_table_top (id: 0), square_table_leg4 (id: 4) are assembled.\n",
      "INFO: Assembled Set [square_table_top (id: 0), square_table_leg4 (id: 4)]\n",
      " 81%|████████  | 685/850 [01:48<00:26,  6.13it/s]INFO: square_table_top (id: 0), square_table_leg4 (id: 4) are assembled.\n",
      "INFO: Assembled Set [square_table_top (id: 0), square_table_leg4 (id: 4)]\n",
      " 82%|████████▏ | 693/850 [01:49<00:25,  6.20it/s]INFO: square_table_top (id: 0), square_table_leg4 (id: 4) are assembled.\n",
      "INFO: Assembled Set [square_table_top (id: 0), square_table_leg4 (id: 4)]\n",
      " 82%|████████▏ | 694/850 [01:49<00:24,  6.36it/s]INFO: square_table_top (id: 0), square_table_leg4 (id: 4) are assembled.\n",
      "INFO: Assembled Set [square_table_top (id: 0), square_table_leg4 (id: 4)]\n",
      " 82%|████████▏ | 695/850 [01:49<00:23,  6.48it/s]INFO: square_table_top (id: 0), square_table_leg4 (id: 4) are assembled.\n",
      "INFO: Assembled Set [square_table_top (id: 0), square_table_leg4 (id: 4)]\n",
      " 84%|████████▎ | 711/850 [01:52<00:21,  6.58it/s]INFO: square_table_top (id: 0), square_table_leg4 (id: 4) are assembled.\n",
      "INFO: Assembled Set [square_table_top (id: 0), square_table_leg4 (id: 4)]\n",
      " 84%|████████▍ | 715/850 [01:53<00:22,  5.98it/s]INFO: square_table_top (id: 0), square_table_leg4 (id: 4) are assembled.\n",
      "INFO: Assembled Set [square_table_top (id: 0), square_table_leg4 (id: 4)]\n",
      " 86%|████████▌ | 727/850 [01:55<00:19,  6.46it/s]INFO: square_table_top (id: 0), square_table_leg4 (id: 4) are assembled.\n",
      "INFO: Assembled Set [square_table_top (id: 0), square_table_leg4 (id: 4)]\n",
      " 88%|████████▊ | 745/850 [01:58<00:19,  5.26it/s]INFO: square_table_top (id: 0), square_table_leg4 (id: 4) are assembled.\n",
      "INFO: Assembled Set [square_table_top (id: 0), square_table_leg4 (id: 4)]\n",
      " 88%|████████▊ | 749/850 [01:58<00:16,  6.16it/s]INFO: square_table_top (id: 0), square_table_leg4 (id: 4) are assembled.\n",
      "INFO: Assembled Set [square_table_top (id: 0), square_table_leg4 (id: 4)]\n",
      " 89%|████████▉ | 758/850 [02:00<00:14,  6.24it/s]INFO: square_table_top (id: 0), square_table_leg4 (id: 4) are assembled.\n",
      "INFO: Assembled Set [square_table_top (id: 0), square_table_leg4 (id: 4)]\n",
      " 90%|████████▉ | 763/850 [02:01<00:14,  5.83it/s]INFO: square_table_top (id: 0), square_table_leg4 (id: 4) are assembled.\n",
      "INFO: Assembled Set [square_table_top (id: 0), square_table_leg4 (id: 4)]\n",
      " 90%|█████████ | 765/850 [02:01<00:13,  6.19it/s]INFO: square_table_top (id: 0), square_table_leg4 (id: 4) are assembled.\n",
      "INFO: Assembled Set [square_table_top (id: 0), square_table_leg4 (id: 4)]\n",
      " 90%|█████████ | 767/850 [02:01<00:13,  6.24it/s]INFO: square_table_top (id: 0), square_table_leg4 (id: 4) are assembled.\n",
      "INFO: Assembled Set [square_table_top (id: 0), square_table_leg4 (id: 4)]\n",
      " 91%|█████████ | 774/850 [02:03<00:12,  6.25it/s]INFO: square_table_top (id: 0), square_table_leg4 (id: 4) are assembled.\n",
      "INFO: Assembled Set [square_table_top (id: 0), square_table_leg4 (id: 4)]\n",
      " 92%|█████████▏| 778/850 [02:03<00:12,  5.60it/s]INFO: square_table_top (id: 0), square_table_leg4 (id: 4) are assembled.\n",
      "INFO: Assembled Set [square_table_top (id: 0), square_table_leg4 (id: 4)]\n",
      " 92%|█████████▏| 779/850 [02:03<00:12,  5.86it/s]INFO: square_table_top (id: 0), square_table_leg4 (id: 4) are assembled.\n",
      "INFO: Assembled Set [square_table_top (id: 0), square_table_leg4 (id: 4)]\n",
      "INFO: square_table_top (id: 0), square_table_leg4 (id: 4) are assembled.\n",
      "INFO: Assembled Set [square_table_top (id: 0), square_table_leg4 (id: 4)]\n",
      "INFO: square_table_top (id: 0), square_table_leg4 (id: 4) are assembled.\n",
      "INFO: Assembled Set [square_table_top (id: 0), square_table_leg4 (id: 4)]\n",
      " 99%|█████████▉| 841/850 [02:13<00:01,  5.41it/s]INFO: square_table_top (id: 0), square_table_leg4 (id: 4) are assembled.\n",
      "INFO: Assembled Set [square_table_top (id: 0), square_table_leg4 (id: 4)]\n",
      "100%|█████████▉| 846/850 [02:14<00:00,  6.64it/s]INFO: square_table_top (id: 0), square_table_leg4 (id: 4) are assembled.\n",
      "INFO: Assembled Set [square_table_top (id: 0), square_table_leg4 (id: 4)]\n",
      "100%|██████████| 850/850 [02:15<00:00,  6.29it/s]\n"
     ]
    },
    {
     "data": {
      "text/plain": [
       "tensor(0.3359, device='cuda:0')"
      ]
     },
     "execution_count": 4,
     "metadata": {},
     "output_type": "execute_result"
    }
   ],
   "source": [
    "from tqdm import trange\n",
    "\n",
    "\n",
    "next_obs = env.reset()\n",
    "bc_actor.reset()\n",
    "\n",
    "total_reward = 0\n",
    "\n",
    "\n",
    "for step in trange(0, 850):\n",
    "\n",
    "    # Get the base normalized action\n",
    "    base_naction = bc_actor.action_normalized(next_obs)\n",
    "\n",
    "    # Process the obs for the residual policy\n",
    "    next_obs = env.process_obs(next_obs)\n",
    "    next_residual_obs = torch.cat([next_obs, base_naction], dim=-1)\n",
    "\n",
    "    with torch.no_grad():\n",
    "        residual_naction_samp, logprob, _, value, naction_mean = (\n",
    "            residual_policy.get_action_and_value(next_residual_obs)\n",
    "        )\n",
    "\n",
    "    residual_naction = naction_mean\n",
    "    naction = base_naction + residual_naction * cfg.residual_policy.action_scale\n",
    "\n",
    "    next_obs, reward, next_done, truncated, infos = env.step(naction)\n",
    "\n",
    "    total_reward += reward.sum()\n",
    "\n",
    "\n",
    "# Calculate the success rate\n",
    "total_reward / env.num_envs"
   ]
  },
  {
   "cell_type": "code",
   "execution_count": 5,
   "metadata": {},
   "outputs": [],
   "source": [
    "# Only base policy: 28%\n",
    "# With residual 34%...?"
   ]
  },
  {
   "cell_type": "code",
   "execution_count": null,
   "metadata": {},
   "outputs": [],
   "source": []
  }
 ],
 "metadata": {
  "kernelspec": {
   "display_name": "rr",
   "language": "python",
   "name": "python3"
  },
  "language_info": {
   "codemirror_mode": {
    "name": "ipython",
    "version": 3
   },
   "file_extension": ".py",
   "mimetype": "text/x-python",
   "name": "python",
   "nbconvert_exporter": "python",
   "pygments_lexer": "ipython3",
   "version": "3.8.19"
  }
 },
 "nbformat": 4,
 "nbformat_minor": 2
}
